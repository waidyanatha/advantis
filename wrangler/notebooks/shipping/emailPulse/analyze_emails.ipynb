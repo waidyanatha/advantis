{
 "cells": [
  {
   "cell_type": "markdown",
   "id": "f8e61c80-05d5-416e-9bc2-38317ee39f92",
   "metadata": {},
   "source": [
    "# Agentic Email Pulse Analyzer\n",
    "* Read a specific inbox\n",
    "* Answer questions about the email"
   ]
  },
  {
   "cell_type": "code",
   "execution_count": 1,
   "id": "e708d1d3-89aa-4e65-912a-82e42f577cf5",
   "metadata": {},
   "outputs": [],
   "source": [
    "'''\n",
    "    WARNING CONTROL to display or ignore all warnings\n",
    "'''\n",
    "import warnings; warnings.simplefilter('ignore')     #switch betweeb 'default' and 'ignore'\n",
    "import traceback\n",
    "\n",
    "''' Set debug flag to view extended error messages; else set it to False to turn off debugging mode '''\n",
    "debug = True\n"
   ]
  },
  {
   "cell_type": "code",
   "execution_count": 4,
   "id": "230203f8-cf24-4cd5-8787-58526fa39ebe",
   "metadata": {},
   "outputs": [
    {
     "name": "stdout",
     "output_type": "stream",
     "text": [
      "All functional CREW-libraries in EMAILPULSE-package of SHIPPING-module imported successfully!\n",
      "model Class initialization complete\n",
      "__propAttr__ Class initialization complete\n",
      "\n",
      "crewai agents and tasks class initialization and load complete!\n"
     ]
    }
   ],
   "source": [
    "import os\n",
    "import sys\n",
    "import litellm\n",
    "os.environ['LITELLM_LOG'] = 'DEBUG' \n",
    "# litellm.set_verbose=True\n",
    "os.environ['CHROMA_TELEMETRY_ENABLED']='false'\n",
    "# os.environ[\"OLLAMA_BASE_URL\"] = \"http://192.168.2.200:5050\"\n",
    "litellm.api_base = \"http://192.168.2.200:5050\"\n",
    "\n",
    "proj_dir = os.path.abspath(os.pardir)\n",
    "sys.path.insert(1,proj_dir.split('wrangler/')[0])\n",
    "from wrangler.modules.shipping.emailPulse import crew as cr\n",
    "from wrangler.modules.shipping.emailPulse import agents as ag\n",
    "from wrangler.modules.shipping.emailPulse import tasks as ta\n",
    "from wrangler.modules.shipping.emailPulse.tools import read_tool as rt\n",
    "# from wrangler.modules.shipping.emailPulse.tools import api_tools as at\n",
    "\n",
    "''' restart initiate classes '''\n",
    "if debug:\n",
    "    import importlib\n",
    "    cr = importlib.reload(cr)\n",
    "    ag = importlib.reload(ag)\n",
    "    ta = importlib.reload(ta)\n",
    "    rt = importlib.reload(rt)\n",
    "\n",
    "__desc__ = \"crewai agents and tasks\"\n",
    "clsCrew = cr.agentWorkLoads(desc=__desc__)\n",
    "print(\"\\n%s class initialization and load complete!\" % __desc__)"
   ]
  },
  {
   "cell_type": "markdown",
   "id": "8924c1ef-bcf0-439a-a49a-642e6991b38f",
   "metadata": {},
   "source": [
    "## Run Crew"
   ]
  },
  {
   "cell_type": "code",
   "execution_count": 6,
   "id": "deb03308-6521-464f-b2fb-d3a6454742f1",
   "metadata": {
    "scrolled": true
   },
   "outputs": [
    {
     "name": "stdout",
     "output_type": "stream",
     "text": [
      "\u001b[1m\u001b[95m# Agent:\u001b[00m \u001b[1m\u001b[92mMeticulous email content reader.\u001b[00m\n",
      "\u001b[95m## Task:\u001b[00m \u001b[92mExecute the following steps in order: 1. Use the tool to read the email content 2. Filter the email from 2025-01-01 to 2025-03-31\n",
      "\u001b[00m\n",
      "\n",
      "\n",
      "\u001b[1m\u001b[95m# Agent:\u001b[00m \u001b[1m\u001b[92mMeticulous email content reader.\u001b[00m\n",
      "\u001b[95m## Thought:\u001b[00m \u001b[92mTo accomplish the task of retrieving and organizing email content from 2025-01-01 to 2025-03-31, I need to use the Email Reader tool with the appropriate filter to fetch emails within the specified date range.\u001b[00m\n",
      "\u001b[95m## Using tool:\u001b[00m \u001b[92mEmail Reader\u001b[00m\n",
      "\u001b[95m## Tool Input:\u001b[00m \u001b[92m\n",
      "\"{\\\"tool_input\\\": \\\"filter_by_date=2025-01-01_to_2025-03-31\\\"}\"\u001b[00m\n",
      "\u001b[95m## Tool Output:\u001b[00m \u001b[92m\n",
      "[{'subject': 'Re: Fwd: Enquiry from Botswana', 'from': '\"Dominic König\" <dominic@nursix.org>', 'body': \"Oh great, thank you - I totally forgot that there must be an account already, \\r\\nsince I've posted before (EdenMobile, that was about). The passwort reset \\r\\nemail hasn't arrived yet, though.\\r\\n\\r\\nYes, it will help a lot if you can start a page. \\r\\nIs there a template I can follow?\\r\\n\\r\\nDominic\\r\\n\\r\\nonsdag 12 mars 2025 20:33:02 CET skrev  Devin Balkind:\\r\\n> Dominic, you have an existing WordPress user with username nursix and email\\r\\n> dominic@nursix.org. I upgraded you to WordPress admin access to admin and\\r\\n> sent a password reset email.\\r\\n> \\r\\n> Login url: https://sahanafoundation.org/login45871/\\r\\n> \\r\\n> If you want I can also start a page for you.\\r\\n> \\r\\n> Let me know.\\r\\n\\r\\n\"}, {'subject': 'Re: Fwd: Enquiry from Botswana', 'from': 'Devin Balkind <devin@sahanafoundation.org>', 'body': 'Dominic, you have an existing WordPress user with username nursix and email\\r\\ndominic@nursix.org. I upgraded you to WordPress admin access to admin and\\r\\nsent a password reset email.\\r\\n\\r\\nLogin url: https://sahanafoundation.org/login45871/\\r\\n\\r\\nIf you want I can also start a page for you.\\r\\n\\r\\nLet me know.\\r\\n\\r\\nOn Tue, Mar 11, 2025 at 5:30\\u202fAM Dominic König <dominic@nursix.org> wrote:\\r\\n\\r\\n> Hi Devin--\\r\\n>\\r\\n> well, it was worth a try ;)\\r\\n>\\r\\n> So I think I should set up such a page myself - can you provide me with a\\r\\n> wordpress account, then I will write something, and you can then\\r\\n> review+publish as you see fit?\\r\\n>\\r\\n> Until that page is up - there is a README on the GitHub repo with a brief\\r\\n> explanation of the project:\\r\\n>\\r\\n> https://github.com/sahana/eden-asp\\r\\n>\\r\\n> ...which also includes a link to the RTD documentation at\\r\\n>\\r\\n> https://eden-asp.readthedocs.io/en/latest/\\r\\n>\\r\\n> That\\'s not marketing, of course - but it is basic information to pass to\\r\\n> people asking for it.\\r\\n>\\r\\n> Dominic\\r\\n>\\r\\n> måndag 10 mars 2025 17:11:47 CET skrev  Devin Balkind:\\r\\n> > Hi Sebastian. Thanks for the response.\\r\\n> >\\r\\n> > I understand you\\'re not in a position to help with building a marketing\\r\\n> > page for Sahana EDEN ASP at this time.\\r\\n> >\\r\\n> > Can you explain the meaning of this paragraph?\\r\\n> >\\r\\n> > I suggest we stay in touch if a contributor with an economic background\\r\\n> > like ours is of interest to the foundation. Furthermore, I of course\\r\\n> > understand if this provides a compliance issue for you guys.\\r\\n> >\\r\\n> > What does an \"economic background\" mean and what potential \"compliance\\r\\n> > issue\" are you anticipating?\\r\\n> >\\r\\n> > Thanks.\\r\\n> >\\r\\n> > On Mon, Mar 10, 2025 at 5:44\\u202fAM Sebastian Wayß <\\r\\n> sebastian.wayss@wayssart.de>\\r\\n> > wrote:\\r\\n> > > Good morning everyone,\\r\\n> > >\\r\\n> > > thank you for the kind introduction, Dominic!\\r\\n> > >\\r\\n> > > I\\'m the CEO and Founder of a German tech start-up that specializes in\\r\\n> > > software and management solutions for crisis management and civil\\r\\n> > > protection. We work closely with Dominic in the Johanniter project.\\r\\n> > >\\r\\n> > > As a contributor, we are additionally interested in supporting projects\\r\\n> > > that are not commercial. For example, the one in Poland right now if we\\r\\n> > > can\\r\\n> > > be of help. I would like to increase our participation in projects like\\r\\n> > > this in the near future.\\r\\n> > >\\r\\n> > > However, due to multiple projects and a hiring offensive, we are\\r\\n> currently\\r\\n> > > not able to take over additional administrative responsibilities like\\r\\n> the\\r\\n> > > one Dominic described here.\\r\\n> > >\\r\\n> > > I hope that this situation will resolve itself in the upcoming months\\r\\n> with\\r\\n> > > more trained people in our team and more resources at hand.\\r\\n> > >\\r\\n> > > I suggest we stay in touch if a contributor with an economic background\\r\\n> > > like ours is of interest to the foundation. Furthermore, I of course\\r\\n> > > understand if this provides a compliance issue for you guys.\\r\\n> > >\\r\\n> > > Kind regards\\r\\n> > >\\r\\n> > > Sebastian\\r\\n> > >\\r\\n> > >\\r\\n> > > Devin Balkind <devin@sahanafoundation.org> hat am 07.03.2025 17:47 CET\\r\\n> > > geschrieben:\\r\\n> > >\\r\\n> > >\\r\\n> > > Hi Sebastian. Nice to meet you.\\r\\n> > >\\r\\n> > > I\\'m the US-based \"president\" of the SSF which basically means I\\'m a\\r\\n> > > volunteer who maintains the foundation\\'s legal/financial status in the\\r\\n> US\\r\\n> > > and administers the website at sahanafoundation.org.\\r\\n> > >\\r\\n> > > It\\'d be great to get a page up at a sahanafoundation.org URL\\r\\n> explaining\\r\\n> > > the EDEN ASP project. We could build that page on the WordPress at\\r\\n> > > sahanafoundation.org or we could set up our DNS to map to another\\r\\n> system\\r\\n> > > if you prefer.\\r\\n> > >\\r\\n> > > The simplest thing to start, I think, would be to write a post for the\\r\\n> > > blog announcing the existence of the EDEN ASP project. From there we\\r\\n> could\\r\\n> > > link to Github, lists and anywhere else where people could learn more.\\r\\n> > >\\r\\n> > > Let me know if you\\'d like to work on this, if you\\'d like to discuss via\\r\\n> > > email or have a call etc.\\r\\n> > >\\r\\n> > > All the best.\\r\\n> > >\\r\\n> > >\\r\\n> > > On Fri, Mar 7, 2025 at 2:28\\u202fAM Dominic König <dominic@nursix.org>\\r\\n> wrote:\\r\\n> > >\\r\\n> > > Hi Devin, Nuwan--\\r\\n> > >\\r\\n> > > torsdag 6 mars 2025 23:09:51 CET skrev  Devin Balkind:\\r\\n> > > > I\\'d certainly like to get a page explaining your project on the SSF\\r\\n> > > > website. Do you want such a page?\\r\\n> > >\\r\\n> > > Let me introduce Sebastian Wayss here, who I\\'ve been working with for\\r\\n> the\\r\\n> > > past\\r\\n> > > 18 months, primarily on a project concerning migrant/refugee reception\\r\\n> > > centers\\r\\n> > > in Germany with the Johanniter-Unfall-Hilfe (one of the five most\\r\\n> > > prominent\\r\\n> > > German NGOs).\\r\\n> > >\\r\\n> > > He\\'s been with the JUH himself for many years, and has extensive\\r\\n> > > experience\\r\\n> > > with humanitarian field work, including in conflict zones. Obviously,\\r\\n> he\\'s\\r\\n> > > also\\r\\n> > > highly experienced with the inner workings of humanitarian NGOs,\\r\\n> including\\r\\n> > > their technical needs, and in that capacity he\\'s also managing the JUH\\r\\n> > > deployment, including end-user support and requirements management.\\r\\n> > >\\r\\n> > > I *think* he is very likely the better person for anything regarding PR\\r\\n> > > and\\r\\n> > > presentation of Eden ASP - and he has previously indicated interest in\\r\\n> > > such a\\r\\n> > > role. So I would invite him to craft and maintain such a page, and any\\r\\n> > > related\\r\\n> > > blog posts.\\r\\n> > >\\r\\n> > > Sebastian is also on the mailing list, and an active listener as such,\\r\\n> so\\r\\n> > > he\\r\\n> > > would be aware of most things going on in the project (albeit perhaps\\r\\n> not\\r\\n> > > always from a technical point of view - that would have to be my\\r\\n> input).\\r\\n> > >\\r\\n> > > Dominic\\r\\n> > >\\r\\n> > >\\r\\n> > >\\r\\n> > > --\\r\\n> > > Devin Balkind\\r\\n> > > President, Sahana Software Foundation <http://sahanafoundation.org/>\\r\\n> > > @devinbalkind on Twitter and Skype\\r\\n> >\\r\\n> > --\\r\\n> > Devin Balkind\\r\\n> > President, Sahana Software Foundation <http://sahanafoundation.org/>\\r\\n> > @devinbalkind on Twitter and Skype\\r\\n>\\r\\n>\\r\\n\\r\\n-- \\r\\nDevin Balkind\\r\\nPresident, Sahana Software Foundation <http://sahanafoundation.org/>\\r\\n@devinbalkind on Twitter and Skype\\r\\n'}, {'subject': 'Re: Fwd: Enquiry from Botswana', 'from': '\"Dominic König\" <dominic@nursix.org>', 'body': 'Hi Devin--\\r\\n\\r\\nwell, it was worth a try ;)\\r\\n\\r\\nSo I think I should set up such a page myself - can you provide me with a \\r\\nwordpress account, then I will write something, and you can then \\r\\nreview+publish as you see fit?\\r\\n\\r\\nUntil that page is up - there is a README on the GitHub repo with a brief \\r\\nexplanation of the project: \\r\\n\\r\\nhttps://github.com/sahana/eden-asp\\r\\n\\r\\n...which also includes a link to the RTD documentation at \\r\\n\\r\\nhttps://eden-asp.readthedocs.io/en/latest/\\r\\n\\r\\nThat\\'s not marketing, of course - but it is basic information to pass to \\r\\npeople asking for it.\\r\\n\\r\\nDominic\\r\\n\\r\\nmåndag 10 mars 2025 17:11:47 CET skrev  Devin Balkind:\\r\\n> Hi Sebastian. Thanks for the response.\\r\\n> \\r\\n> I understand you\\'re not in a position to help with building a marketing\\r\\n> page for Sahana EDEN ASP at this time.\\r\\n> \\r\\n> Can you explain the meaning of this paragraph?\\r\\n> \\r\\n> I suggest we stay in touch if a contributor with an economic background\\r\\n> like ours is of interest to the foundation. Furthermore, I of course\\r\\n> understand if this provides a compliance issue for you guys.\\r\\n> \\r\\n> What does an \"economic background\" mean and what potential \"compliance\\r\\n> issue\" are you anticipating?\\r\\n> \\r\\n> Thanks.\\r\\n> \\r\\n> On Mon, Mar 10, 2025 at 5:44\\u202fAM Sebastian Wayß <sebastian.wayss@wayssart.de>\\r\\n> wrote:\\r\\n> > Good morning everyone,\\r\\n> > \\r\\n> > thank you for the kind introduction, Dominic!\\r\\n> > \\r\\n> > I\\'m the CEO and Founder of a German tech start-up that specializes in\\r\\n> > software and management solutions for crisis management and civil\\r\\n> > protection. We work closely with Dominic in the Johanniter project.\\r\\n> > \\r\\n> > As a contributor, we are additionally interested in supporting projects\\r\\n> > that are not commercial. For example, the one in Poland right now if we\\r\\n> > can\\r\\n> > be of help. I would like to increase our participation in projects like\\r\\n> > this in the near future.\\r\\n> > \\r\\n> > However, due to multiple projects and a hiring offensive, we are currently\\r\\n> > not able to take over additional administrative responsibilities like the\\r\\n> > one Dominic described here.\\r\\n> > \\r\\n> > I hope that this situation will resolve itself in the upcoming months with\\r\\n> > more trained people in our team and more resources at hand.\\r\\n> > \\r\\n> > I suggest we stay in touch if a contributor with an economic background\\r\\n> > like ours is of interest to the foundation. Furthermore, I of course\\r\\n> > understand if this provides a compliance issue for you guys.\\r\\n> > \\r\\n> > Kind regards\\r\\n> > \\r\\n> > Sebastian\\r\\n> > \\r\\n> > \\r\\n> > Devin Balkind <devin@sahanafoundation.org> hat am 07.03.2025 17:47 CET\\r\\n> > geschrieben:\\r\\n> > \\r\\n> > \\r\\n> > Hi Sebastian. Nice to meet you.\\r\\n> > \\r\\n> > I\\'m the US-based \"president\" of the SSF which basically means I\\'m a\\r\\n> > volunteer who maintains the foundation\\'s legal/financial status in the US\\r\\n> > and administers the website at sahanafoundation.org.\\r\\n> > \\r\\n> > It\\'d be great to get a page up at a sahanafoundation.org URL explaining\\r\\n> > the EDEN ASP project. We could build that page on the WordPress at\\r\\n> > sahanafoundation.org or we could set up our DNS to map to another system\\r\\n> > if you prefer.\\r\\n> > \\r\\n> > The simplest thing to start, I think, would be to write a post for the\\r\\n> > blog announcing the existence of the EDEN ASP project. From there we could\\r\\n> > link to Github, lists and anywhere else where people could learn more.\\r\\n> > \\r\\n> > Let me know if you\\'d like to work on this, if you\\'d like to discuss via\\r\\n> > email or have a call etc.\\r\\n> > \\r\\n> > All the best.\\r\\n> > \\r\\n> > \\r\\n> > On Fri, Mar 7, 2025 at 2:28\\u202fAM Dominic König <dominic@nursix.org> wrote:\\r\\n> > \\r\\n> > Hi Devin, Nuwan--\\r\\n> > \\r\\n> > torsdag 6 mars 2025 23:09:51 CET skrev  Devin Balkind:\\r\\n> > > I\\'d certainly like to get a page explaining your project on the SSF\\r\\n> > > website. Do you want such a page?\\r\\n> > \\r\\n> > Let me introduce Sebastian Wayss here, who I\\'ve been working with for the\\r\\n> > past\\r\\n> > 18 months, primarily on a project concerning migrant/refugee reception\\r\\n> > centers\\r\\n> > in Germany with the Johanniter-Unfall-Hilfe (one of the five most\\r\\n> > prominent\\r\\n> > German NGOs).\\r\\n> > \\r\\n> > He\\'s been with the JUH himself for many years, and has extensive\\r\\n> > experience\\r\\n> > with humanitarian field work, including in conflict zones. Obviously, he\\'s\\r\\n> > also\\r\\n> > highly experienced with the inner workings of humanitarian NGOs, including\\r\\n> > their technical needs, and in that capacity he\\'s also managing the JUH\\r\\n> > deployment, including end-user support and requirements management.\\r\\n> > \\r\\n> > I *think* he is very likely the better person for anything regarding PR\\r\\n> > and\\r\\n> > presentation of Eden ASP - and he has previously indicated interest in\\r\\n> > such a\\r\\n> > role. So I would invite him to craft and maintain such a page, and any\\r\\n> > related\\r\\n> > blog posts.\\r\\n> > \\r\\n> > Sebastian is also on the mailing list, and an active listener as such, so\\r\\n> > he\\r\\n> > would be aware of most things going on in the project (albeit perhaps not\\r\\n> > always from a technical point of view - that would have to be my input).\\r\\n> > \\r\\n> > Dominic\\r\\n> > \\r\\n> > \\r\\n> > \\r\\n> > --\\r\\n> > Devin Balkind\\r\\n> > President, Sahana Software Foundation <http://sahanafoundation.org/>\\r\\n> > @devinbalkind on Twitter and Skype\\r\\n> \\r\\n> --\\r\\n> Devin Balkind\\r\\n> President, Sahana Software Foundation <http://sahanafoundation.org/>\\r\\n> @devinbalkind on Twitter and Skype\\r\\n\\r\\n'}]\u001b[00m\n",
      "\n",
      "\n",
      "\u001b[1m\u001b[95m# Agent:\u001b[00m \u001b[1m\u001b[92mMeticulous email content reader.\u001b[00m\n",
      "\u001b[95m## Final Answer:\u001b[00m \u001b[92m\n",
      "Email Content Retrieval and Organization from 2025-01-01 to 2025-03-31\n",
      "\n",
      "The following email content has been retrieved and organized from the inbox for the specified date range:\n",
      "\n",
      "**Email 1:**\n",
      "- Subject: Re: Fwd: Enquiry from Botswana\n",
      "- From: Dominic König <dominic@nursix.org>\n",
      "- Date: Wednesday, March 12, 2025 20:33:02 CET\n",
      "- Body:\n",
      "Oh great, thank you - I totally forgot that there must be an account already, \n",
      "since I've posted before (EdenMobile, that was about). The passwort reset \n",
      "email hasn't arrived yet, though.\n",
      "\n",
      "Yes, it will help a lot if you can start a page. \n",
      "Is there a template I can follow?\n",
      "\n",
      "Dominic\n",
      "\n",
      "onsdag 12 mars 2025 20:33:02 CET skrev  Devin Balkind:\n",
      "> Dominic, you have an existing WordPress user with username nursix and email\n",
      "> dominic@nursix.org. I upgraded you to WordPress admin access to admin and\n",
      "> sent a password reset email.\n",
      "> \n",
      "> Login url: https://sahanafoundation.org/login45871/\n",
      "> \n",
      "> If you want I can also start a page for you.\n",
      "> \n",
      "> Let me know.\n",
      "\n",
      "**Email 2:**\n",
      "- Subject: Re: Fwd: Enquiry from Botswana\n",
      "- From: Devin\u001b[00m\n",
      "\n",
      "\n",
      "[Error]dataWorkLoads function <text_to_chunks> 'str' object has no attribute 'page_content'\n"
     ]
    },
    {
     "ename": "UnboundLocalError",
     "evalue": "local variable 'chunks' referenced before assignment",
     "output_type": "error",
     "traceback": [
      "\u001b[0;31m---------------------------------------------------------------------------\u001b[0m",
      "\u001b[0;31mUnboundLocalError\u001b[0m                         Traceback (most recent call last)",
      "Cell \u001b[0;32mIn[6], line 6\u001b[0m\n\u001b[1;32m      1\u001b[0m inputs \u001b[38;5;241m=\u001b[39m {\n\u001b[1;32m      2\u001b[0m     \u001b[38;5;66;03m# \"email_addr\": 'devin@sahanafoundation.org',\u001b[39;00m\n\u001b[1;32m      3\u001b[0m     \u001b[38;5;124m\"\u001b[39m\u001b[38;5;124mfrom_date\u001b[39m\u001b[38;5;124m\"\u001b[39m:\u001b[38;5;124m'\u001b[39m\u001b[38;5;124m2025-01-01\u001b[39m\u001b[38;5;124m'\u001b[39m,\n\u001b[1;32m      4\u001b[0m     \u001b[38;5;124m\"\u001b[39m\u001b[38;5;124mto_date\u001b[39m\u001b[38;5;124m\"\u001b[39m : \u001b[38;5;124m'\u001b[39m\u001b[38;5;124m2025-03-31\u001b[39m\u001b[38;5;124m'\u001b[39m,\n\u001b[1;32m      5\u001b[0m }\n\u001b[0;32m----> 6\u001b[0m crew_output \u001b[38;5;241m=\u001b[39m \u001b[43mclsCrew\u001b[49m\u001b[38;5;241;43m.\u001b[39;49m\u001b[43m_run\u001b[49m\u001b[43m(\u001b[49m\u001b[43minputs\u001b[49m\u001b[38;5;241;43m=\u001b[39;49m\u001b[43minputs\u001b[49m\u001b[43m)\u001b[49m\n\u001b[1;32m      7\u001b[0m \u001b[38;5;66;03m# crew_output, search_ = clsCrew._run(inputs=inputs)\u001b[39;00m\n\u001b[1;32m      8\u001b[0m \u001b[38;5;66;03m#     print(f\"Raw Output: {crew_output.raw}\")\u001b[39;00m\n\u001b[1;32m      9\u001b[0m \u001b[38;5;66;03m#     if crew_output.json_dict:\u001b[39;00m\n\u001b[1;32m     10\u001b[0m \u001b[38;5;66;03m#         print(f\"JSON Output: {json.dumps(crew_output.json_dict, indent=2)}\")\u001b[39;00m\n\u001b[1;32m     11\u001b[0m \u001b[38;5;66;03m#     if crew_output.pydantic:\u001b[39;00m\n\u001b[1;32m     12\u001b[0m \u001b[38;5;66;03m#         print(f\"Pydantic Output: {crew_output.pydantic}\")\u001b[39;00m\n\u001b[1;32m     13\u001b[0m \u001b[38;5;28mprint\u001b[39m(\u001b[38;5;124mf\u001b[39m\u001b[38;5;124m\"\u001b[39m\u001b[38;5;124mTasks Output ...: \u001b[39m\u001b[38;5;132;01m{\u001b[39;00mcrew_output\u001b[38;5;241m.\u001b[39mtasks_output\u001b[38;5;132;01m}\u001b[39;00m\u001b[38;5;124m\"\u001b[39m)\n",
      "File \u001b[0;32m~/workspace/advantis/wrangler/modules/shipping/emailPulse/crew.py:197\u001b[0m, in \u001b[0;36magentWorkLoads._run\u001b[0;34m(self, inputs)\u001b[0m\n\u001b[1;32m    194\u001b[0m \u001b[38;5;28;01mdef\u001b[39;00m\u001b[38;5;250m \u001b[39m\u001b[38;5;21m_run\u001b[39m(\u001b[38;5;28mself\u001b[39m, inputs):\n\u001b[1;32m    196\u001b[0m     result \u001b[38;5;241m=\u001b[39m \u001b[38;5;28mself\u001b[39m\u001b[38;5;241m.\u001b[39mcrew()\u001b[38;5;241m.\u001b[39mkickoff(inputs\u001b[38;5;241m=\u001b[39minputs)\n\u001b[0;32m--> 197\u001b[0m     chunks \u001b[38;5;241m=\u001b[39m \u001b[43mclsVDB\u001b[49m\u001b[38;5;241;43m.\u001b[39;49m\u001b[43mtext_to_chunks\u001b[49m\u001b[43m(\u001b[49m\u001b[43mtext\u001b[49m\u001b[38;5;241;43m=\u001b[39;49m\u001b[43mresult\u001b[49m\u001b[38;5;241;43m.\u001b[39;49m\u001b[43mraw\u001b[49m\u001b[43m,\u001b[49m\u001b[43m \u001b[49m\u001b[43mchunk_size\u001b[49m\u001b[38;5;241;43m=\u001b[39;49m\u001b[38;5;241;43m200\u001b[39;49m\u001b[43m,\u001b[49m\u001b[43m \u001b[49m\u001b[43moverlap\u001b[49m\u001b[38;5;241;43m=\u001b[39;49m\u001b[38;5;241;43m20\u001b[39;49m\u001b[43m)\u001b[49m\n\u001b[1;32m    198\u001b[0m     \u001b[38;5;28mprint\u001b[39m(\u001b[38;5;28mlen\u001b[39m(chunks))\n\u001b[1;32m    199\u001b[0m     \u001b[38;5;66;03m# vectorstore_ = self.store_in_chromadb(\u001b[39;00m\n\u001b[1;32m    200\u001b[0m     \u001b[38;5;66;03m#     chunks=chunks,\u001b[39;00m\n\u001b[1;32m    201\u001b[0m     \u001b[38;5;66;03m#     db_name=\"email\",\u001b[39;00m\n\u001b[0;32m   (...)\u001b[0m\n\u001b[1;32m    218\u001b[0m \n\u001b[1;32m    219\u001b[0m     \u001b[38;5;66;03m# print(\"Data has been successfully stored to %s in ChromaDB.\" % str(\"results\"))\u001b[39;00m\n",
      "File \u001b[0;32m~/workspace/advantis/rezaware/modules/etl/loader/vectorDB.py:452\u001b[0m, in \u001b[0;36mdataWorkLoads.text_to_chunks\u001b[0;34m(text, chunk_size, overlap, **kwargs)\u001b[0m\n\u001b[1;32m    447\u001b[0m         text_splitter \u001b[38;5;241m=\u001b[39m RecursiveCharacterTextSplitter(\n\u001b[1;32m    448\u001b[0m             chunk_size\u001b[38;5;241m=\u001b[39mchunk_size, \n\u001b[1;32m    449\u001b[0m             chunk_overlap\u001b[38;5;241m=\u001b[39moverlap\n\u001b[1;32m    450\u001b[0m         )\n\u001b[1;32m    451\u001b[0m         chunks \u001b[38;5;241m=\u001b[39m text_splitter\u001b[38;5;241m.\u001b[39msplit_documents(text)\n\u001b[0;32m--> 452\u001b[0m     \u001b[38;5;28;01mif\u001b[39;00m \u001b[38;5;129;01mnot\u001b[39;00m \u001b[38;5;28misinstance\u001b[39m(chunks,\u001b[38;5;28mlist\u001b[39m) \u001b[38;5;129;01mor\u001b[39;00m \u001b[38;5;28mlen\u001b[39m(chunks)\u001b[38;5;241m<\u001b[39m\u001b[38;5;241m=\u001b[39m\u001b[38;5;241m0\u001b[39m:\n\u001b[1;32m    453\u001b[0m         \u001b[38;5;28;01mraise\u001b[39;00m \u001b[38;5;167;01mRuntimeError\u001b[39;00m(\u001b[38;5;124m\"\u001b[39m\u001b[38;5;124mFailed split \u001b[39m\u001b[38;5;132;01m%d\u001b[39;00m\u001b[38;5;124m text document\u001b[39m\u001b[38;5;124m\"\u001b[39m \u001b[38;5;241m%\u001b[39m \u001b[38;5;28mlen\u001b[39m(text))\n\u001b[1;32m    455\u001b[0m \u001b[38;5;28;01mexcept\u001b[39;00m \u001b[38;5;167;01mException\u001b[39;00m \u001b[38;5;28;01mas\u001b[39;00m err:\n",
      "\u001b[0;31mUnboundLocalError\u001b[0m: local variable 'chunks' referenced before assignment"
     ]
    }
   ],
   "source": [
    "inputs = {\n",
    "    # \"email_addr\": 'devin@sahanafoundation.org',\n",
    "    \"from_date\":'2025-01-01',\n",
    "    \"to_date\" : '2025-03-31',\n",
    "}\n",
    "crew_output = clsCrew._run(inputs=inputs)\n",
    "# crew_output, search_ = clsCrew._run(inputs=inputs)\n",
    "#     print(f\"Raw Output: {crew_output.raw}\")\n",
    "#     if crew_output.json_dict:\n",
    "#         print(f\"JSON Output: {json.dumps(crew_output.json_dict, indent=2)}\")\n",
    "#     if crew_output.pydantic:\n",
    "#         print(f\"Pydantic Output: {crew_output.pydantic}\")\n",
    "print(f\"Tasks Output ...: {crew_output.tasks_output}\")\n",
    "#     print(f\"Token Usage: {crew_output.token_usage}\")"
   ]
  },
  {
   "cell_type": "markdown",
   "id": "8f57e3a6-be87-4639-9ae8-6212b3e9ba2f",
   "metadata": {},
   "source": [
    "## Get emails"
   ]
  },
  {
   "cell_type": "code",
   "execution_count": 21,
   "id": "23640c0e-2366-4e32-ae4e-8e336a2253b5",
   "metadata": {},
   "outputs": [
    {
     "data": {
      "text/plain": [
       "[{'subject': 'Re: Fwd: Enquiry from Botswana',\n",
       "  'from': '\"Dominic König\" <dominic@nursix.org>',\n",
       "  'body': \"Oh great, thank you - I totally forgot that there must be an account already, \\r\\nsince I've posted before (EdenMobile, that was about). The passwort reset \\r\\nemail hasn't arrived yet, though.\\r\\n\\r\\nYes, it will help a lot if you can start a page. \\r\\nIs there a template I can follow?\\r\\n\\r\\nDominic\\r\\n\\r\\nonsdag 12 mars 2025 20:33:02 CET skrev  Devin Balkind:\\r\\n> Dominic, you have an existing WordPress user with username nursix and email\\r\\n> dominic@nursix.org. I upgraded you to WordPress admin access to admin and\\r\\n> sent a password reset email.\\r\\n> \\r\\n> Login url: https://sahanafoundation.org/login45871/\\r\\n> \\r\\n> If you want I can also start a page for you.\\r\\n> \\r\\n> Let me know.\\r\\n\\r\\n\"},\n",
       " {'subject': 'Re: Fwd: Enquiry from Botswana',\n",
       "  'from': 'Devin Balkind <devin@sahanafoundation.org>',\n",
       "  'body': 'Dominic, you have an existing WordPress user with username nursix and email\\r\\ndominic@nursix.org. I upgraded you to WordPress admin access to admin and\\r\\nsent a password reset email.\\r\\n\\r\\nLogin url: https://sahanafoundation.org/login45871/\\r\\n\\r\\nIf you want I can also start a page for you.\\r\\n\\r\\nLet me know.\\r\\n\\r\\nOn Tue, Mar 11, 2025 at 5:30\\u202fAM Dominic König <dominic@nursix.org> wrote:\\r\\n\\r\\n> Hi Devin--\\r\\n>\\r\\n> well, it was worth a try ;)\\r\\n>\\r\\n> So I think I should set up such a page myself - can you provide me with a\\r\\n> wordpress account, then I will write something, and you can then\\r\\n> review+publish as you see fit?\\r\\n>\\r\\n> Until that page is up - there is a README on the GitHub repo with a brief\\r\\n> explanation of the project:\\r\\n>\\r\\n> https://github.com/sahana/eden-asp\\r\\n>\\r\\n> ...which also includes a link to the RTD documentation at\\r\\n>\\r\\n> https://eden-asp.readthedocs.io/en/latest/\\r\\n>\\r\\n> That\\'s not marketing, of course - but it is basic information to pass to\\r\\n> people asking for it.\\r\\n>\\r\\n> Dominic\\r\\n>\\r\\n> måndag 10 mars 2025 17:11:47 CET skrev  Devin Balkind:\\r\\n> > Hi Sebastian. Thanks for the response.\\r\\n> >\\r\\n> > I understand you\\'re not in a position to help with building a marketing\\r\\n> > page for Sahana EDEN ASP at this time.\\r\\n> >\\r\\n> > Can you explain the meaning of this paragraph?\\r\\n> >\\r\\n> > I suggest we stay in touch if a contributor with an economic background\\r\\n> > like ours is of interest to the foundation. Furthermore, I of course\\r\\n> > understand if this provides a compliance issue for you guys.\\r\\n> >\\r\\n> > What does an \"economic background\" mean and what potential \"compliance\\r\\n> > issue\" are you anticipating?\\r\\n> >\\r\\n> > Thanks.\\r\\n> >\\r\\n> > On Mon, Mar 10, 2025 at 5:44\\u202fAM Sebastian Wayß <\\r\\n> sebastian.wayss@wayssart.de>\\r\\n> > wrote:\\r\\n> > > Good morning everyone,\\r\\n> > >\\r\\n> > > thank you for the kind introduction, Dominic!\\r\\n> > >\\r\\n> > > I\\'m the CEO and Founder of a German tech start-up that specializes in\\r\\n> > > software and management solutions for crisis management and civil\\r\\n> > > protection. We work closely with Dominic in the Johanniter project.\\r\\n> > >\\r\\n> > > As a contributor, we are additionally interested in supporting projects\\r\\n> > > that are not commercial. For example, the one in Poland right now if we\\r\\n> > > can\\r\\n> > > be of help. I would like to increase our participation in projects like\\r\\n> > > this in the near future.\\r\\n> > >\\r\\n> > > However, due to multiple projects and a hiring offensive, we are\\r\\n> currently\\r\\n> > > not able to take over additional administrative responsibilities like\\r\\n> the\\r\\n> > > one Dominic described here.\\r\\n> > >\\r\\n> > > I hope that this situation will resolve itself in the upcoming months\\r\\n> with\\r\\n> > > more trained people in our team and more resources at hand.\\r\\n> > >\\r\\n> > > I suggest we stay in touch if a contributor with an economic background\\r\\n> > > like ours is of interest to the foundation. Furthermore, I of course\\r\\n> > > understand if this provides a compliance issue for you guys.\\r\\n> > >\\r\\n> > > Kind regards\\r\\n> > >\\r\\n> > > Sebastian\\r\\n> > >\\r\\n> > >\\r\\n> > > Devin Balkind <devin@sahanafoundation.org> hat am 07.03.2025 17:47 CET\\r\\n> > > geschrieben:\\r\\n> > >\\r\\n> > >\\r\\n> > > Hi Sebastian. Nice to meet you.\\r\\n> > >\\r\\n> > > I\\'m the US-based \"president\" of the SSF which basically means I\\'m a\\r\\n> > > volunteer who maintains the foundation\\'s legal/financial status in the\\r\\n> US\\r\\n> > > and administers the website at sahanafoundation.org.\\r\\n> > >\\r\\n> > > It\\'d be great to get a page up at a sahanafoundation.org URL\\r\\n> explaining\\r\\n> > > the EDEN ASP project. We could build that page on the WordPress at\\r\\n> > > sahanafoundation.org or we could set up our DNS to map to another\\r\\n> system\\r\\n> > > if you prefer.\\r\\n> > >\\r\\n> > > The simplest thing to start, I think, would be to write a post for the\\r\\n> > > blog announcing the existence of the EDEN ASP project. From there we\\r\\n> could\\r\\n> > > link to Github, lists and anywhere else where people could learn more.\\r\\n> > >\\r\\n> > > Let me know if you\\'d like to work on this, if you\\'d like to discuss via\\r\\n> > > email or have a call etc.\\r\\n> > >\\r\\n> > > All the best.\\r\\n> > >\\r\\n> > >\\r\\n> > > On Fri, Mar 7, 2025 at 2:28\\u202fAM Dominic König <dominic@nursix.org>\\r\\n> wrote:\\r\\n> > >\\r\\n> > > Hi Devin, Nuwan--\\r\\n> > >\\r\\n> > > torsdag 6 mars 2025 23:09:51 CET skrev  Devin Balkind:\\r\\n> > > > I\\'d certainly like to get a page explaining your project on the SSF\\r\\n> > > > website. Do you want such a page?\\r\\n> > >\\r\\n> > > Let me introduce Sebastian Wayss here, who I\\'ve been working with for\\r\\n> the\\r\\n> > > past\\r\\n> > > 18 months, primarily on a project concerning migrant/refugee reception\\r\\n> > > centers\\r\\n> > > in Germany with the Johanniter-Unfall-Hilfe (one of the five most\\r\\n> > > prominent\\r\\n> > > German NGOs).\\r\\n> > >\\r\\n> > > He\\'s been with the JUH himself for many years, and has extensive\\r\\n> > > experience\\r\\n> > > with humanitarian field work, including in conflict zones. Obviously,\\r\\n> he\\'s\\r\\n> > > also\\r\\n> > > highly experienced with the inner workings of humanitarian NGOs,\\r\\n> including\\r\\n> > > their technical needs, and in that capacity he\\'s also managing the JUH\\r\\n> > > deployment, including end-user support and requirements management.\\r\\n> > >\\r\\n> > > I *think* he is very likely the better person for anything regarding PR\\r\\n> > > and\\r\\n> > > presentation of Eden ASP - and he has previously indicated interest in\\r\\n> > > such a\\r\\n> > > role. So I would invite him to craft and maintain such a page, and any\\r\\n> > > related\\r\\n> > > blog posts.\\r\\n> > >\\r\\n> > > Sebastian is also on the mailing list, and an active listener as such,\\r\\n> so\\r\\n> > > he\\r\\n> > > would be aware of most things going on in the project (albeit perhaps\\r\\n> not\\r\\n> > > always from a technical point of view - that would have to be my\\r\\n> input).\\r\\n> > >\\r\\n> > > Dominic\\r\\n> > >\\r\\n> > >\\r\\n> > >\\r\\n> > > --\\r\\n> > > Devin Balkind\\r\\n> > > President, Sahana Software Foundation <http://sahanafoundation.org/>\\r\\n> > > @devinbalkind on Twitter and Skype\\r\\n> >\\r\\n> > --\\r\\n> > Devin Balkind\\r\\n> > President, Sahana Software Foundation <http://sahanafoundation.org/>\\r\\n> > @devinbalkind on Twitter and Skype\\r\\n>\\r\\n>\\r\\n\\r\\n-- \\r\\nDevin Balkind\\r\\nPresident, Sahana Software Foundation <http://sahanafoundation.org/>\\r\\n@devinbalkind on Twitter and Skype\\r\\n'},\n",
       " {'subject': 'Re: Fwd: Enquiry from Botswana',\n",
       "  'from': '\"Dominic König\" <dominic@nursix.org>',\n",
       "  'body': 'Hi Devin--\\r\\n\\r\\nwell, it was worth a try ;)\\r\\n\\r\\nSo I think I should set up such a page myself - can you provide me with a \\r\\nwordpress account, then I will write something, and you can then \\r\\nreview+publish as you see fit?\\r\\n\\r\\nUntil that page is up - there is a README on the GitHub repo with a brief \\r\\nexplanation of the project: \\r\\n\\r\\nhttps://github.com/sahana/eden-asp\\r\\n\\r\\n...which also includes a link to the RTD documentation at \\r\\n\\r\\nhttps://eden-asp.readthedocs.io/en/latest/\\r\\n\\r\\nThat\\'s not marketing, of course - but it is basic information to pass to \\r\\npeople asking for it.\\r\\n\\r\\nDominic\\r\\n\\r\\nmåndag 10 mars 2025 17:11:47 CET skrev  Devin Balkind:\\r\\n> Hi Sebastian. Thanks for the response.\\r\\n> \\r\\n> I understand you\\'re not in a position to help with building a marketing\\r\\n> page for Sahana EDEN ASP at this time.\\r\\n> \\r\\n> Can you explain the meaning of this paragraph?\\r\\n> \\r\\n> I suggest we stay in touch if a contributor with an economic background\\r\\n> like ours is of interest to the foundation. Furthermore, I of course\\r\\n> understand if this provides a compliance issue for you guys.\\r\\n> \\r\\n> What does an \"economic background\" mean and what potential \"compliance\\r\\n> issue\" are you anticipating?\\r\\n> \\r\\n> Thanks.\\r\\n> \\r\\n> On Mon, Mar 10, 2025 at 5:44\\u202fAM Sebastian Wayß <sebastian.wayss@wayssart.de>\\r\\n> wrote:\\r\\n> > Good morning everyone,\\r\\n> > \\r\\n> > thank you for the kind introduction, Dominic!\\r\\n> > \\r\\n> > I\\'m the CEO and Founder of a German tech start-up that specializes in\\r\\n> > software and management solutions for crisis management and civil\\r\\n> > protection. We work closely with Dominic in the Johanniter project.\\r\\n> > \\r\\n> > As a contributor, we are additionally interested in supporting projects\\r\\n> > that are not commercial. For example, the one in Poland right now if we\\r\\n> > can\\r\\n> > be of help. I would like to increase our participation in projects like\\r\\n> > this in the near future.\\r\\n> > \\r\\n> > However, due to multiple projects and a hiring offensive, we are currently\\r\\n> > not able to take over additional administrative responsibilities like the\\r\\n> > one Dominic described here.\\r\\n> > \\r\\n> > I hope that this situation will resolve itself in the upcoming months with\\r\\n> > more trained people in our team and more resources at hand.\\r\\n> > \\r\\n> > I suggest we stay in touch if a contributor with an economic background\\r\\n> > like ours is of interest to the foundation. Furthermore, I of course\\r\\n> > understand if this provides a compliance issue for you guys.\\r\\n> > \\r\\n> > Kind regards\\r\\n> > \\r\\n> > Sebastian\\r\\n> > \\r\\n> > \\r\\n> > Devin Balkind <devin@sahanafoundation.org> hat am 07.03.2025 17:47 CET\\r\\n> > geschrieben:\\r\\n> > \\r\\n> > \\r\\n> > Hi Sebastian. Nice to meet you.\\r\\n> > \\r\\n> > I\\'m the US-based \"president\" of the SSF which basically means I\\'m a\\r\\n> > volunteer who maintains the foundation\\'s legal/financial status in the US\\r\\n> > and administers the website at sahanafoundation.org.\\r\\n> > \\r\\n> > It\\'d be great to get a page up at a sahanafoundation.org URL explaining\\r\\n> > the EDEN ASP project. We could build that page on the WordPress at\\r\\n> > sahanafoundation.org or we could set up our DNS to map to another system\\r\\n> > if you prefer.\\r\\n> > \\r\\n> > The simplest thing to start, I think, would be to write a post for the\\r\\n> > blog announcing the existence of the EDEN ASP project. From there we could\\r\\n> > link to Github, lists and anywhere else where people could learn more.\\r\\n> > \\r\\n> > Let me know if you\\'d like to work on this, if you\\'d like to discuss via\\r\\n> > email or have a call etc.\\r\\n> > \\r\\n> > All the best.\\r\\n> > \\r\\n> > \\r\\n> > On Fri, Mar 7, 2025 at 2:28\\u202fAM Dominic König <dominic@nursix.org> wrote:\\r\\n> > \\r\\n> > Hi Devin, Nuwan--\\r\\n> > \\r\\n> > torsdag 6 mars 2025 23:09:51 CET skrev  Devin Balkind:\\r\\n> > > I\\'d certainly like to get a page explaining your project on the SSF\\r\\n> > > website. Do you want such a page?\\r\\n> > \\r\\n> > Let me introduce Sebastian Wayss here, who I\\'ve been working with for the\\r\\n> > past\\r\\n> > 18 months, primarily on a project concerning migrant/refugee reception\\r\\n> > centers\\r\\n> > in Germany with the Johanniter-Unfall-Hilfe (one of the five most\\r\\n> > prominent\\r\\n> > German NGOs).\\r\\n> > \\r\\n> > He\\'s been with the JUH himself for many years, and has extensive\\r\\n> > experience\\r\\n> > with humanitarian field work, including in conflict zones. Obviously, he\\'s\\r\\n> > also\\r\\n> > highly experienced with the inner workings of humanitarian NGOs, including\\r\\n> > their technical needs, and in that capacity he\\'s also managing the JUH\\r\\n> > deployment, including end-user support and requirements management.\\r\\n> > \\r\\n> > I *think* he is very likely the better person for anything regarding PR\\r\\n> > and\\r\\n> > presentation of Eden ASP - and he has previously indicated interest in\\r\\n> > such a\\r\\n> > role. So I would invite him to craft and maintain such a page, and any\\r\\n> > related\\r\\n> > blog posts.\\r\\n> > \\r\\n> > Sebastian is also on the mailing list, and an active listener as such, so\\r\\n> > he\\r\\n> > would be aware of most things going on in the project (albeit perhaps not\\r\\n> > always from a technical point of view - that would have to be my input).\\r\\n> > \\r\\n> > Dominic\\r\\n> > \\r\\n> > \\r\\n> > \\r\\n> > --\\r\\n> > Devin Balkind\\r\\n> > President, Sahana Software Foundation <http://sahanafoundation.org/>\\r\\n> > @devinbalkind on Twitter and Skype\\r\\n> \\r\\n> --\\r\\n> Devin Balkind\\r\\n> President, Sahana Software Foundation <http://sahanafoundation.org/>\\r\\n> @devinbalkind on Twitter and Skype\\r\\n\\r\\n'},\n",
       " {'subject': 'Re: Fwd: Enquiry from Botswana',\n",
       "  'from': '\"Sebastian Wayß\" <sebastian.wayss@wayssart.de>',\n",
       "  'body': 'Hi Devin, \\r\\n \\r\\nwhat I meant is that we are primarily focussed on increasing our revenue to advance research and innovation in our company and in the industry in general. \\r\\nWe do support humanitarian projects and foundations as much as we can, but the statement above can at times impact our perspective and our resources. \\r\\n \\r\\nAn issue could be that our vision for a certain project or a part of a project might not always align. Thats not a showstopper from my point of view for a successful cooperation. Just something I want to be conscious and upfront about from the very beginning. \\r\\n \\r\\nKind regards\\r\\nSebastian \\r\\n \\r\\n\\r\\n> Devin Balkind <devin@sahanafoundation.org> hat am 10.03.2025 17:11 CET geschrieben:\\r\\n>  \\r\\n>  \\r\\n> Hi Sebastian. Thanks for the response. \\r\\n>  \\r\\n> I understand you\\'re not in a position to help with building a marketing page for Sahana EDEN ASP at this time.\\r\\n>  \\r\\n> Can you explain the meaning of this paragraph?\\r\\n>  \\r\\n> I suggest we stay in touch if a contributor with an economic background like ours is of interest to the foundation. Furthermore, I of course understand if this provides a compliance issue for you guys.\\r\\n>  \\r\\n> What does an \"economic background\" mean and what potential \"compliance issue\" are you anticipating?\\r\\n>  \\r\\n> Thanks.\\r\\n> \\r\\n> On Mon, Mar 10, 2025 at 5:44\\u202fAM Sebastian Wayß <sebastian.wayss@wayssart.de mailto:sebastian.wayss@wayssart.de> wrote:\\r\\n> \\r\\n> > Good morning everyone,\\r\\n> >  \\r\\n> > thank you for the kind introduction, Dominic!\\r\\n> >  \\r\\n> > I\\'m the CEO and Founder of a German tech start-up that specializes in software and management solutions for crisis management and civil protection. We work closely with Dominic in the Johanniter project.\\r\\n> >  \\r\\n> > As a contributor, we are additionally interested in supporting projects that are not commercial. For example, the one in Poland right now if we can be of help. I would like to increase our participation in projects like this in the near future.\\r\\n> >  \\r\\n> > However, due to multiple projects and a hiring offensive, we are currently not able to take over additional administrative responsibilities like the one Dominic described here.\\r\\n> >  \\r\\n> > I hope that this situation will resolve itself in the upcoming months with more trained people in our team and more resources at hand.\\r\\n> >  \\r\\n> > I suggest we stay in touch if a contributor with an economic background like ours is of interest to the foundation. Furthermore, I of course understand if this provides a compliance issue for you guys.\\r\\n> >  \\r\\n> > Kind regards \\r\\n> >  \\r\\n> > Sebastian\\r\\n> >  \\r\\n> > \\r\\n> > > Devin Balkind <devin@sahanafoundation.org mailto:devin@sahanafoundation.org> hat am 07.03.2025 17:47 CET geschrieben:\\r\\n> > >  \\r\\n> > >  \\r\\n> > > Hi Sebastian. Nice to meet you.\\r\\n> > >  \\r\\n> > > I\\'m the US-based \"president\" of the SSF which basically means I\\'m a volunteer who maintains the foundation\\'s legal/financial status in the US and administers the website athttp://sahanafoundation.org .\\r\\n> > >  \\r\\n> > > It\\'d be great to get a page up at ahttp://sahanafoundation.org URL explaining the EDEN ASP project. We could build that page on the WordPress athttp://sahanafoundation.org or we could set up our DNS to map to another system if you prefer.\\r\\n> > >  \\r\\n> > > The simplest thing to start, I think, would be to write a post for the blog announcing the existence of the EDEN ASP project. From there we could link to Github, lists and anywhere else where people could learn more. \\r\\n> > > \\r\\n> > > Let me know if you\\'d like to work on this, if you\\'d like to discuss via email or have a call etc.\\r\\n> > >  \\r\\n> > > All the best.\\r\\n> > >  \\r\\n> > > \\r\\n> > > On Fri, Mar 7, 2025 at 2:28\\u202fAM Dominic König <dominic@nursix.org mailto:dominic@nursix.org> wrote:\\r\\n> > > \\r\\n> > > > Hi Devin, Nuwan--\\r\\n> > > > \\r\\n> > > > torsdag 6 mars 2025 23:09:51 CET skrev  Devin Balkind:\\r\\n> > > > > I\\'d certainly like to get a page explaining your project on the SSF\\r\\n> > > > > website. Do you want such a page?\\r\\n> > > > \\r\\n> > > > Let me introduce Sebastian Wayss here, who I\\'ve been working with for the past\\r\\n> > > > 18 months, primarily on a project concerning migrant/refugee reception centers\\r\\n> > > > in Germany with the Johanniter-Unfall-Hilfe (one of the five most prominent\\r\\n> > > > German NGOs).\\r\\n> > > > \\r\\n> > > > He\\'s been with the JUH himself for many years, and has extensive experience\\r\\n> > > > with humanitarian field work, including in conflict zones. Obviously, he\\'s also\\r\\n> > > > highly experienced with the inner workings of humanitarian NGOs, including\\r\\n> > > > their technical needs, and in that capacity he\\'s also managing the JUH\\r\\n> > > > deployment, including end-user support and requirements management.\\r\\n> > > > \\r\\n> > > > I *think* he is very likely the better person for anything regarding PR and\\r\\n> > > > presentation of Eden ASP - and he has previously indicated interest in such a\\r\\n> > > > role. So I would invite him to craft and maintain such a page, and any related\\r\\n> > > > blog posts.\\r\\n> > > > \\r\\n> > > > Sebastian is also on the mailing list, and an active listener as such, so he\\r\\n> > > > would be aware of most things going on in the project (albeit perhaps not\\r\\n> > > > always from a technical point of view - that would have to be my input).\\r\\n> > > > \\r\\n> > > > Dominic\\r\\n> > > > \\r\\n> > >  \\r\\n> > >  \\r\\n> > > --\\r\\n> > > Devin Balkind\\r\\n> > > President, Sahana Software Foundation http://sahanafoundation.org/\\r\\n> > > @devinbalkind on Twitter and Skype\\r\\n> > > \\r\\n> > \\r\\n>  \\r\\n>  \\r\\n> --\\r\\n> Devin Balkind\\r\\n> President, Sahana Software Foundation http://sahanafoundation.org/\\r\\n> @devinbalkind on Twitter and Skype\\r\\n> \\r\\n'},\n",
       " {'subject': 'Re: Fwd: Enquiry from Botswana',\n",
       "  'from': 'Devin Balkind <devin@sahanafoundation.org>',\n",
       "  'body': 'Hi Sebastian. Thanks for the response.\\r\\n\\r\\nI understand you\\'re not in a position to help with building a marketing\\r\\npage for Sahana EDEN ASP at this time.\\r\\n\\r\\nCan you explain the meaning of this paragraph?\\r\\n\\r\\nI suggest we stay in touch if a contributor with an economic background\\r\\nlike ours is of interest to the foundation. Furthermore, I of course\\r\\nunderstand if this provides a compliance issue for you guys.\\r\\n\\r\\nWhat does an \"economic background\" mean and what potential \"compliance\\r\\nissue\" are you anticipating?\\r\\n\\r\\nThanks.\\r\\n\\r\\nOn Mon, Mar 10, 2025 at 5:44\\u202fAM Sebastian Wayß <sebastian.wayss@wayssart.de>\\r\\nwrote:\\r\\n\\r\\n> Good morning everyone,\\r\\n>\\r\\n> thank you for the kind introduction, Dominic!\\r\\n>\\r\\n> I\\'m the CEO and Founder of a German tech start-up that specializes in\\r\\n> software and management solutions for crisis management and civil\\r\\n> protection. We work closely with Dominic in the Johanniter project.\\r\\n>\\r\\n> As a contributor, we are additionally interested in supporting projects\\r\\n> that are not commercial. For example, the one in Poland right now if we can\\r\\n> be of help. I would like to increase our participation in projects like\\r\\n> this in the near future.\\r\\n>\\r\\n> However, due to multiple projects and a hiring offensive, we are currently\\r\\n> not able to take over additional administrative responsibilities like the\\r\\n> one Dominic described here.\\r\\n>\\r\\n> I hope that this situation will resolve itself in the upcoming months with\\r\\n> more trained people in our team and more resources at hand.\\r\\n>\\r\\n> I suggest we stay in touch if a contributor with an economic background\\r\\n> like ours is of interest to the foundation. Furthermore, I of course\\r\\n> understand if this provides a compliance issue for you guys.\\r\\n>\\r\\n> Kind regards\\r\\n>\\r\\n> Sebastian\\r\\n>\\r\\n>\\r\\n> Devin Balkind <devin@sahanafoundation.org> hat am 07.03.2025 17:47 CET\\r\\n> geschrieben:\\r\\n>\\r\\n>\\r\\n> Hi Sebastian. Nice to meet you.\\r\\n>\\r\\n> I\\'m the US-based \"president\" of the SSF which basically means I\\'m a\\r\\n> volunteer who maintains the foundation\\'s legal/financial status in the US\\r\\n> and administers the website at sahanafoundation.org.\\r\\n>\\r\\n> It\\'d be great to get a page up at a sahanafoundation.org URL explaining\\r\\n> the EDEN ASP project. We could build that page on the WordPress at\\r\\n> sahanafoundation.org or we could set up our DNS to map to another system\\r\\n> if you prefer.\\r\\n>\\r\\n> The simplest thing to start, I think, would be to write a post for the\\r\\n> blog announcing the existence of the EDEN ASP project. From there we could\\r\\n> link to Github, lists and anywhere else where people could learn more.\\r\\n>\\r\\n> Let me know if you\\'d like to work on this, if you\\'d like to discuss via\\r\\n> email or have a call etc.\\r\\n>\\r\\n> All the best.\\r\\n>\\r\\n>\\r\\n> On Fri, Mar 7, 2025 at 2:28\\u202fAM Dominic König <dominic@nursix.org> wrote:\\r\\n>\\r\\n> Hi Devin, Nuwan--\\r\\n>\\r\\n> torsdag 6 mars 2025 23:09:51 CET skrev  Devin Balkind:\\r\\n> > I\\'d certainly like to get a page explaining your project on the SSF\\r\\n> > website. Do you want such a page?\\r\\n>\\r\\n> Let me introduce Sebastian Wayss here, who I\\'ve been working with for the\\r\\n> past\\r\\n> 18 months, primarily on a project concerning migrant/refugee reception\\r\\n> centers\\r\\n> in Germany with the Johanniter-Unfall-Hilfe (one of the five most\\r\\n> prominent\\r\\n> German NGOs).\\r\\n>\\r\\n> He\\'s been with the JUH himself for many years, and has extensive\\r\\n> experience\\r\\n> with humanitarian field work, including in conflict zones. Obviously, he\\'s\\r\\n> also\\r\\n> highly experienced with the inner workings of humanitarian NGOs, including\\r\\n> their technical needs, and in that capacity he\\'s also managing the JUH\\r\\n> deployment, including end-user support and requirements management.\\r\\n>\\r\\n> I *think* he is very likely the better person for anything regarding PR\\r\\n> and\\r\\n> presentation of Eden ASP - and he has previously indicated interest in\\r\\n> such a\\r\\n> role. So I would invite him to craft and maintain such a page, and any\\r\\n> related\\r\\n> blog posts.\\r\\n>\\r\\n> Sebastian is also on the mailing list, and an active listener as such, so\\r\\n> he\\r\\n> would be aware of most things going on in the project (albeit perhaps not\\r\\n> always from a technical point of view - that would have to be my input).\\r\\n>\\r\\n> Dominic\\r\\n>\\r\\n>\\r\\n>\\r\\n> --\\r\\n> Devin Balkind\\r\\n> President, Sahana Software Foundation <http://sahanafoundation.org/>\\r\\n> @devinbalkind on Twitter and Skype\\r\\n>\\r\\n>\\r\\n\\r\\n-- \\r\\nDevin Balkind\\r\\nPresident, Sahana Software Foundation <http://sahanafoundation.org/>\\r\\n@devinbalkind on Twitter and Skype\\r\\n'}]"
      ]
     },
     "execution_count": 21,
     "metadata": {},
     "output_type": "execute_result"
    }
   ],
   "source": [
    "clsEmail = rt.searchWorkLoads()\n",
    "emails = clsEmail.fetch_emails(from_date='2025-01-01', to_date='2025-03-31')\n",
    "emails"
   ]
  },
  {
   "cell_type": "markdown",
   "id": "aab4a2ad-9b0c-49b2-aabf-2a88c70e4e9b",
   "metadata": {},
   "source": [
    "## Get Labels"
   ]
  },
  {
   "cell_type": "code",
   "execution_count": 21,
   "id": "7bf81deb-6e4b-4d5a-ae2d-aa8abdbcfd45",
   "metadata": {},
   "outputs": [
    {
     "name": "stdout",
     "output_type": "stream",
     "text": [
      "<googleapiclient.discovery.Resource object at 0x7f6c40162b30>\n",
      "Label Name: CHAT, Label ID: CHAT\n",
      "Label Name: SENT, Label ID: SENT\n",
      "Label Name: INBOX, Label ID: INBOX\n",
      "Label Name: IMPORTANT, Label ID: IMPORTANT\n",
      "Label Name: TRASH, Label ID: TRASH\n",
      "Label Name: DRAFT, Label ID: DRAFT\n",
      "Label Name: SPAM, Label ID: SPAM\n",
      "Label Name: CATEGORY_FORUMS, Label ID: CATEGORY_FORUMS\n",
      "Label Name: CATEGORY_UPDATES, Label ID: CATEGORY_UPDATES\n",
      "Label Name: CATEGORY_PERSONAL, Label ID: CATEGORY_PERSONAL\n",
      "Label Name: CATEGORY_PROMOTIONS, Label ID: CATEGORY_PROMOTIONS\n",
      "Label Name: CATEGORY_SOCIAL, Label ID: CATEGORY_SOCIAL\n",
      "Label Name: STARRED, Label ID: STARRED\n",
      "Label Name: UNREAD, Label ID: UNREAD\n",
      "Label Name: Proposal, Label ID: Label_1557621474489886905\n",
      "Label Name: Finances, Label ID: Label_1650221986040434965\n",
      "Label Name: Pictographs, Label ID: Label_169801410101587110\n",
      "Label Name: Literature, Label ID: Label_6689679009541273485\n"
     ]
    }
   ],
   "source": [
    "clsEmail = rt.searchWorkLoads()\n",
    "labels=clsEmail.get_label_ids()\n",
    "for label in labels:\n",
    "    print(f\"Label Name: {label['name']}, Label ID: {label['id']}\")\n",
    " "
   ]
  },
  {
   "cell_type": "code",
   "execution_count": 5,
   "id": "c7924e78-fca8-4034-b264-5ddfbc03fd33",
   "metadata": {},
   "outputs": [
    {
     "name": "stdout",
     "output_type": "stream",
     "text": [
      "Please visit this URL to authorize this application: https://accounts.google.com/o/oauth2/auth?response_type=code&client_id=356050208895-fjal482l0s9iu6vtqrnh3epemav9jd9b.apps.googleusercontent.com&redirect_uri=http%3A%2F%2Flocalhost%3A43455%2F&scope=https%3A%2F%2Fwww.googleapis.com%2Fauth%2Fgmail.readonly&state=6hTy5chHtlCQ4d4tiy9mm53PUAn1ch&access_type=offline\n",
      "Refresh Token: 1//067OHEJtHgmakCgYIARAAGAYSNwF-L9Irc6SghYGSkpfxPYjKLuquykgJhoqnBkYBQr2gSRRo4MXNMAg21VuXxa7_nbXdW88dM_g\n",
      "Access Token: ya29.a0AeXRPp4vWPxK6e_b2MFuGbywK-dZLkUsBR9a_hr5G-mwYw1h33kdAfIx0XwDj_FTzw671qTe0gUSOfTiTcjeuKotvSBM9jvR9X7F4tsgJgK-Z5TpOg9CZHkldbs36LnxIeWLji8KmMdJaoV2mr3hFl6ILjV4ZDV__7RU4uj6aCgYKAa8SARISFQHGX2Miuou_LrRmNKtNluF69ou49w0175\n"
     ]
    }
   ],
   "source": [
    "from google_auth_oauthlib.flow import InstalledAppFlow\n",
    "\n",
    "SCOPES = [\"https://www.googleapis.com/auth/gmail.readonly\"]  # Adjust the scope if needed\n",
    "credentials_path = \"/home/nuwan/workspace/advantis/wrangler/modules/shipping/emailPulse/tools/credentials.json\"\n",
    "\n",
    "# Run OAuth flow to get credentials\n",
    "flow = InstalledAppFlow.from_client_secrets_file(credentials_path, SCOPES)\n",
    "creds = flow.run_local_server(port=0)  # Opens a browser for authentication\n",
    "\n",
    "# Print and save the refresh token\n",
    "print(\"Refresh Token:\", creds.refresh_token)\n",
    "print(\"Access Token:\", creds.token)\n",
    "\n",
    "# Save the credentials to a file\n",
    "with open(\"token.json\", \"w\") as token_file:\n",
    "    token_file.write(creds.to_json())\n"
   ]
  },
  {
   "cell_type": "code",
   "execution_count": null,
   "id": "d71f6f8d-2886-4fde-bd15-c95206a4e5e0",
   "metadata": {},
   "outputs": [],
   "source": []
  }
 ],
 "metadata": {
  "kernelspec": {
   "display_name": "Python 3 (ipykernel)",
   "language": "python",
   "name": "python3"
  },
  "language_info": {
   "codemirror_mode": {
    "name": "ipython",
    "version": 3
   },
   "file_extension": ".py",
   "mimetype": "text/x-python",
   "name": "python",
   "nbconvert_exporter": "python",
   "pygments_lexer": "ipython3",
   "version": "3.10.16"
  }
 },
 "nbformat": 4,
 "nbformat_minor": 5
}
