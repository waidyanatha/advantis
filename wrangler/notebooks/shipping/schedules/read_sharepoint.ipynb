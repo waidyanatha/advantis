{
 "cells": [
  {
   "cell_type": "code",
   "execution_count": 1,
   "id": "5e3eabb9-299b-4142-9649-e1fd97de519b",
   "metadata": {},
   "outputs": [],
   "source": [
    "import os\n",
    "from dotenv import load_dotenv\n",
    "load_dotenv()\n",
    "\n",
    "from office365.sharepoint.client_context import ClientContext\n",
    "from office365.runtime.auth.client_credential import ClientCredential\n",
    "# 1. Authentication\n",
    "client_id = os.getenv('AZURE_CLIENT_ID') # \"YOUR-CLIENT-ID-HERE\"\n",
    "client_secret = os.getenv('AZURE_CLIENT_SECRET') # \"YOUR-SECRET-VALUE-HERE\"\n",
    "tenant_id = os.getenv(\"AZURE_TENANT_ID\")\n",
    "\n",
    "site_url = \"https://rezgateway.sharepoint.com/sites/hayleysadvantis-Proposals\"\n",
    "authority_url = f\"https://login.microsoftonline.com/{tenant_id}\"\n",
    "\n",
    "credentials = ClientCredential(client_id, client_secret)\n",
    "ctx = ClientContext(site_url).with_credentials(credentials)\n",
    "# client_id, client_secret"
   ]
  },
  {
   "cell_type": "code",
   "execution_count": 2,
   "id": "f8c2d8e4-28ee-464d-ad51-7aaf042bed83",
   "metadata": {},
   "outputs": [
    {
     "ename": "FileNotFoundError",
     "evalue": "[Errno 2] No such file or directory: 'https://rezgateway.sharepoint.com/sites/hayleysadvantis-Proposals'",
     "output_type": "error",
     "traceback": [
      "\u001b[0;31m---------------------------------------------------------------------------\u001b[0m",
      "\u001b[0;31mFileNotFoundError\u001b[0m                         Traceback (most recent call last)",
      "Cell \u001b[0;32mIn[2], line 1\u001b[0m\n\u001b[0;32m----> 1\u001b[0m \u001b[38;5;28;01mwith\u001b[39;00m \u001b[38;5;28;43mopen\u001b[39;49m\u001b[43m(\u001b[49m\u001b[43msite_url\u001b[49m\u001b[43m,\u001b[49m\u001b[43m \u001b[49m\u001b[38;5;124;43m\"\u001b[39;49m\u001b[38;5;124;43mwb\u001b[39;49m\u001b[38;5;124;43m\"\u001b[39;49m\u001b[43m)\u001b[49m \u001b[38;5;28;01mas\u001b[39;00m local_file:\n\u001b[1;32m      2\u001b[0m     response \u001b[38;5;241m=\u001b[39m ctx\u001b[38;5;241m.\u001b[39mweb\u001b[38;5;241m.\u001b[39mget_file_by_server_relative_url(target_file_url)\u001b[38;5;241m.\u001b[39mdownload(local_file)\u001b[38;5;241m.\u001b[39mexecute_query()\n",
      "File \u001b[0;32m~/.cache/pypoetry/virtualenvs/advantis-uD4pUfUB-py3.10/lib/python3.10/site-packages/IPython/core/interactiveshell.py:324\u001b[0m, in \u001b[0;36m_modified_open\u001b[0;34m(file, *args, **kwargs)\u001b[0m\n\u001b[1;32m    317\u001b[0m \u001b[38;5;28;01mif\u001b[39;00m file \u001b[38;5;129;01min\u001b[39;00m {\u001b[38;5;241m0\u001b[39m, \u001b[38;5;241m1\u001b[39m, \u001b[38;5;241m2\u001b[39m}:\n\u001b[1;32m    318\u001b[0m     \u001b[38;5;28;01mraise\u001b[39;00m \u001b[38;5;167;01mValueError\u001b[39;00m(\n\u001b[1;32m    319\u001b[0m         \u001b[38;5;124mf\u001b[39m\u001b[38;5;124m\"\u001b[39m\u001b[38;5;124mIPython won\u001b[39m\u001b[38;5;124m'\u001b[39m\u001b[38;5;124mt let you open fd=\u001b[39m\u001b[38;5;132;01m{\u001b[39;00mfile\u001b[38;5;132;01m}\u001b[39;00m\u001b[38;5;124m by default \u001b[39m\u001b[38;5;124m\"\u001b[39m\n\u001b[1;32m    320\u001b[0m         \u001b[38;5;124m\"\u001b[39m\u001b[38;5;124mas it is likely to crash IPython. If you know what you are doing, \u001b[39m\u001b[38;5;124m\"\u001b[39m\n\u001b[1;32m    321\u001b[0m         \u001b[38;5;124m\"\u001b[39m\u001b[38;5;124myou can use builtins\u001b[39m\u001b[38;5;124m'\u001b[39m\u001b[38;5;124m open.\u001b[39m\u001b[38;5;124m\"\u001b[39m\n\u001b[1;32m    322\u001b[0m     )\n\u001b[0;32m--> 324\u001b[0m \u001b[38;5;28;01mreturn\u001b[39;00m \u001b[43mio_open\u001b[49m\u001b[43m(\u001b[49m\u001b[43mfile\u001b[49m\u001b[43m,\u001b[49m\u001b[43m \u001b[49m\u001b[38;5;241;43m*\u001b[39;49m\u001b[43margs\u001b[49m\u001b[43m,\u001b[49m\u001b[43m \u001b[49m\u001b[38;5;241;43m*\u001b[39;49m\u001b[38;5;241;43m*\u001b[39;49m\u001b[43mkwargs\u001b[49m\u001b[43m)\u001b[49m\n",
      "\u001b[0;31mFileNotFoundError\u001b[0m: [Errno 2] No such file or directory: 'https://rezgateway.sharepoint.com/sites/hayleysadvantis-Proposals'"
     ]
    }
   ],
   "source": [
    "with open(site_url, \"wb\") as local_file:\n",
    "    response = ctx.web.get_file_by_server_relative_url(target_file_url).download(local_file).execute_query()"
   ]
  },
  {
   "cell_type": "code",
   "execution_count": 3,
   "id": "2e04a891-68cf-4775-afdf-7c40a072b76e",
   "metadata": {},
   "outputs": [
    {
     "name": "stdout",
     "output_type": "stream",
     "text": [
      "Error while fetching or reading the file: {\"error\":\"unauthorized_client\",\"error_description\":\"AADSTS700016: Application with identifier '6ee9f9dd-0b8c-4e90-a430-36cf7c1e552a' was not found in the directory 'Reservations Gateway Pvt Ltd'. This can happen if the application has not been installed by the administrator of the tenant or consented to by any user in the tenant. You may have sent your authentication request to the wrong tenant. Trace ID: 68629e54-9582-429a-95b4-69f27c3e2d00 Correlation ID: 2b5040e8-d120-4292-add7-224bc520959c Timestamp: 2025-05-22 01:49:29Z\",\"error_codes\":[700016],\"timestamp\":\"2025-05-22 01:49:29Z\",\"trace_id\":\"68629e54-9582-429a-95b4-69f27c3e2d00\",\"correlation_id\":\"2b5040e8-d120-4292-add7-224bc520959c\",\"error_uri\":\"https://accounts.accesscontrol.windows.net/error?code=700016\"}\n"
     ]
    }
   ],
   "source": [
    "# # 1. Authentication\n",
    "# site_url = \"https://rezgateway.sharepoint.com/sites/hayleysadvantis-Proposals\"\n",
    "# site_url = \"https://yourtenant.sharepoint.com/sites/yoursite\"\n",
    "# client_id = os.getenv('AZURE_CLIENT_ID') # \"YOUR-CLIENT-ID-HERE\"\n",
    "# client_secret = os.getenv('AZURE_CLIENT_SECRET') # \"YOUR-SECRET-VALUE-HERE\"\n",
    "\n",
    "# credentials = ClientCredential(client_id, client_secret)\n",
    "# # ctx = ClientContext(site_url).with_credentials(credentials)\n",
    "# ctx = ClientContext(site_url).with_credentials(UserCredential(username, password))\n",
    "\n",
    "# 2. Get File and load it\n",
    "file_url = \"/sites/hayleysadvantis-Proposals/Shared Documents/POC/schedules/get_schedule_inputs.csv\"\n",
    "try:\n",
    "    file = ctx.web.get_file_by_server_relative_path(file_url)\n",
    "    ctx.load(file)\n",
    "    ctx.execute_query()\n",
    "    file_content = file.read()\n",
    "    ctx.execute_query()\n",
    "    df = pd.read_csv(BytesIO(file_content))\n",
    "    print(df.head())\n",
    "except Exception as e:\n",
    "    print(\"Error while fetching or reading the file:\", e)\n"
   ]
  },
  {
   "cell_type": "code",
   "execution_count": 11,
   "id": "19967d96-30a9-4a67-8bbf-970e362a1a5e",
   "metadata": {},
   "outputs": [
    {
     "ename": "ValueError",
     "evalue": "{\"error\":\"unauthorized_client\",\"error_description\":\"AADSTS700016: Application with identifier '15989844-7b87-4c40-b853-3092cf57a8c0' was not found in the directory 'Reservations Gateway Pvt Ltd'. This can happen if the application has not been installed by the administrator of the tenant or consented to by any user in the tenant. You may have sent your authentication request to the wrong tenant. Trace ID: cd2710ab-2f83-43a8-b115-1e4dd0387e00 Correlation ID: 6fd0defd-d7ca-4686-b86c-f9a4bbf87ab2 Timestamp: 2025-05-15 00:35:14Z\",\"error_codes\":[700016],\"timestamp\":\"2025-05-15 00:35:14Z\",\"trace_id\":\"cd2710ab-2f83-43a8-b115-1e4dd0387e00\",\"correlation_id\":\"6fd0defd-d7ca-4686-b86c-f9a4bbf87ab2\",\"error_uri\":\"https://accounts.accesscontrol.windows.net/error?code=700016\"}",
     "output_type": "error",
     "traceback": [
      "\u001b[0;31m---------------------------------------------------------------------------\u001b[0m",
      "\u001b[0;31mHTTPError\u001b[0m                                 Traceback (most recent call last)",
      "File \u001b[0;32m~/.cache/pypoetry/virtualenvs/advantis-uD4pUfUB-py3.10/lib/python3.10/site-packages/office365/runtime/auth/providers/acs_token_provider.py:44\u001b[0m, in \u001b[0;36mACSTokenProvider.get_app_only_access_token\u001b[0;34m(self)\u001b[0m\n\u001b[1;32m     43\u001b[0m     url_info \u001b[38;5;241m=\u001b[39m urlparse(\u001b[38;5;28mself\u001b[39m\u001b[38;5;241m.\u001b[39murl)\n\u001b[0;32m---> 44\u001b[0m     \u001b[38;5;28;01mreturn\u001b[39;00m \u001b[38;5;28;43mself\u001b[39;49m\u001b[38;5;241;43m.\u001b[39;49m\u001b[43m_get_app_only_access_token\u001b[49m\u001b[43m(\u001b[49m\u001b[43murl_info\u001b[49m\u001b[38;5;241;43m.\u001b[39;49m\u001b[43mhostname\u001b[49m\u001b[43m,\u001b[49m\u001b[43m \u001b[49m\u001b[43mrealm\u001b[49m\u001b[43m)\u001b[49m\n\u001b[1;32m     45\u001b[0m \u001b[38;5;28;01mexcept\u001b[39;00m requests\u001b[38;5;241m.\u001b[39mexceptions\u001b[38;5;241m.\u001b[39mRequestException \u001b[38;5;28;01mas\u001b[39;00m e:\n",
      "File \u001b[0;32m~/.cache/pypoetry/virtualenvs/advantis-uD4pUfUB-py3.10/lib/python3.10/site-packages/office365/runtime/auth/providers/acs_token_provider.py:78\u001b[0m, in \u001b[0;36mACSTokenProvider._get_app_only_access_token\u001b[0;34m(self, target_host, target_realm)\u001b[0m\n\u001b[1;32m     73\u001b[0m response \u001b[38;5;241m=\u001b[39m requests\u001b[38;5;241m.\u001b[39mpost(\n\u001b[1;32m     74\u001b[0m     url\u001b[38;5;241m=\u001b[39msts_url,\n\u001b[1;32m     75\u001b[0m     headers\u001b[38;5;241m=\u001b[39m{\u001b[38;5;124m\"\u001b[39m\u001b[38;5;124mContent-Type\u001b[39m\u001b[38;5;124m\"\u001b[39m: \u001b[38;5;124m\"\u001b[39m\u001b[38;5;124mapplication/x-www-form-urlencoded\u001b[39m\u001b[38;5;124m\"\u001b[39m},\n\u001b[1;32m     76\u001b[0m     data\u001b[38;5;241m=\u001b[39moauth2_request,\n\u001b[1;32m     77\u001b[0m )\n\u001b[0;32m---> 78\u001b[0m \u001b[43mresponse\u001b[49m\u001b[38;5;241;43m.\u001b[39;49m\u001b[43mraise_for_status\u001b[49m\u001b[43m(\u001b[49m\u001b[43m)\u001b[49m\n\u001b[1;32m     79\u001b[0m \u001b[38;5;28;01mreturn\u001b[39;00m TokenResponse\u001b[38;5;241m.\u001b[39mfrom_json(response\u001b[38;5;241m.\u001b[39mjson())\n",
      "File \u001b[0;32m~/.cache/pypoetry/virtualenvs/advantis-uD4pUfUB-py3.10/lib/python3.10/site-packages/requests/models.py:1024\u001b[0m, in \u001b[0;36mResponse.raise_for_status\u001b[0;34m(self)\u001b[0m\n\u001b[1;32m   1023\u001b[0m \u001b[38;5;28;01mif\u001b[39;00m http_error_msg:\n\u001b[0;32m-> 1024\u001b[0m     \u001b[38;5;28;01mraise\u001b[39;00m HTTPError(http_error_msg, response\u001b[38;5;241m=\u001b[39m\u001b[38;5;28mself\u001b[39m)\n",
      "\u001b[0;31mHTTPError\u001b[0m: 400 Client Error: Bad Request for url: https://accounts.accesscontrol.windows.net/71b06993-a0eb-4c10-ae6e-202d69977046/tokens/OAuth/2",
      "\nDuring handling of the above exception, another exception occurred:\n",
      "\u001b[0;31mValueError\u001b[0m                                Traceback (most recent call last)",
      "Cell \u001b[0;32mIn[11], line 25\u001b[0m\n\u001b[1;32m     23\u001b[0m \u001b[38;5;66;03m# 3. Load file metadata (required)\u001b[39;00m\n\u001b[1;32m     24\u001b[0m ctx\u001b[38;5;241m.\u001b[39mload(file)\n\u001b[0;32m---> 25\u001b[0m \u001b[43mctx\u001b[49m\u001b[38;5;241;43m.\u001b[39;49m\u001b[43mexecute_query\u001b[49m\u001b[43m(\u001b[49m\u001b[43m)\u001b[49m\n\u001b[1;32m     27\u001b[0m \u001b[38;5;66;03m# 4. Download file content\u001b[39;00m\n\u001b[1;32m     28\u001b[0m file_content \u001b[38;5;241m=\u001b[39m file\u001b[38;5;241m.\u001b[39mread()\n",
      "File \u001b[0;32m~/.cache/pypoetry/virtualenvs/advantis-uD4pUfUB-py3.10/lib/python3.10/site-packages/office365/runtime/client_runtime_context.py:173\u001b[0m, in \u001b[0;36mClientRuntimeContext.execute_query\u001b[0;34m(self)\u001b[0m\n\u001b[1;32m    171\u001b[0m \u001b[38;5;28;01mwhile\u001b[39;00m \u001b[38;5;28mself\u001b[39m\u001b[38;5;241m.\u001b[39mhas_pending_request:\n\u001b[1;32m    172\u001b[0m     qry \u001b[38;5;241m=\u001b[39m \u001b[38;5;28mself\u001b[39m\u001b[38;5;241m.\u001b[39m_get_next_query()\n\u001b[0;32m--> 173\u001b[0m     \u001b[38;5;28;43mself\u001b[39;49m\u001b[38;5;241;43m.\u001b[39;49m\u001b[43mpending_request\u001b[49m\u001b[43m(\u001b[49m\u001b[43m)\u001b[49m\u001b[38;5;241;43m.\u001b[39;49m\u001b[43mexecute_query\u001b[49m\u001b[43m(\u001b[49m\u001b[43mqry\u001b[49m\u001b[43m)\u001b[49m\n\u001b[1;32m    174\u001b[0m \u001b[38;5;28;01mreturn\u001b[39;00m \u001b[38;5;28mself\u001b[39m\n",
      "File \u001b[0;32m~/.cache/pypoetry/virtualenvs/advantis-uD4pUfUB-py3.10/lib/python3.10/site-packages/office365/runtime/client_request.py:37\u001b[0m, in \u001b[0;36mClientRequest.execute_query\u001b[0;34m(self, query)\u001b[0m\n\u001b[1;32m     35\u001b[0m \u001b[38;5;28;01mtry\u001b[39;00m:\n\u001b[1;32m     36\u001b[0m     request \u001b[38;5;241m=\u001b[39m \u001b[38;5;28mself\u001b[39m\u001b[38;5;241m.\u001b[39mbuild_request(query)\n\u001b[0;32m---> 37\u001b[0m     response \u001b[38;5;241m=\u001b[39m \u001b[38;5;28;43mself\u001b[39;49m\u001b[38;5;241;43m.\u001b[39;49m\u001b[43mexecute_request_direct\u001b[49m\u001b[43m(\u001b[49m\u001b[43mrequest\u001b[49m\u001b[43m)\u001b[49m\n\u001b[1;32m     38\u001b[0m     \u001b[38;5;28mself\u001b[39m\u001b[38;5;241m.\u001b[39mprocess_response(response, query)\n\u001b[1;32m     39\u001b[0m     \u001b[38;5;28mself\u001b[39m\u001b[38;5;241m.\u001b[39mafterExecute\u001b[38;5;241m.\u001b[39mnotify(response)\n",
      "File \u001b[0;32m~/.cache/pypoetry/virtualenvs/advantis-uD4pUfUB-py3.10/lib/python3.10/site-packages/office365/runtime/client_request.py:46\u001b[0m, in \u001b[0;36mClientRequest.execute_request_direct\u001b[0;34m(self, request)\u001b[0m\n\u001b[1;32m     43\u001b[0m \u001b[38;5;28;01mdef\u001b[39;00m\u001b[38;5;250m \u001b[39m\u001b[38;5;21mexecute_request_direct\u001b[39m(\u001b[38;5;28mself\u001b[39m, request):\n\u001b[1;32m     44\u001b[0m     \u001b[38;5;66;03m# type: (RequestOptions) -> requests.Response\u001b[39;00m\n\u001b[1;32m     45\u001b[0m \u001b[38;5;250m    \u001b[39m\u001b[38;5;124;03m\"\"\"Execute the client request\"\"\"\u001b[39;00m\n\u001b[0;32m---> 46\u001b[0m     \u001b[38;5;28;43mself\u001b[39;49m\u001b[38;5;241;43m.\u001b[39;49m\u001b[43mbeforeExecute\u001b[49m\u001b[38;5;241;43m.\u001b[39;49m\u001b[43mnotify\u001b[49m\u001b[43m(\u001b[49m\u001b[43mrequest\u001b[49m\u001b[43m)\u001b[49m\n\u001b[1;32m     47\u001b[0m     \u001b[38;5;28;01mif\u001b[39;00m request\u001b[38;5;241m.\u001b[39mmethod \u001b[38;5;241m==\u001b[39m HttpMethod\u001b[38;5;241m.\u001b[39mPost:\n\u001b[1;32m     48\u001b[0m         \u001b[38;5;28;01mif\u001b[39;00m request\u001b[38;5;241m.\u001b[39mis_bytes \u001b[38;5;129;01mor\u001b[39;00m request\u001b[38;5;241m.\u001b[39mis_file:\n",
      "File \u001b[0;32m~/.cache/pypoetry/virtualenvs/advantis-uD4pUfUB-py3.10/lib/python3.10/site-packages/office365/runtime/types/event_handler.py:41\u001b[0m, in \u001b[0;36mEventHandler.notify\u001b[0;34m(self, *args, **kwargs)\u001b[0m\n\u001b[1;32m     39\u001b[0m \u001b[38;5;28;01mif\u001b[39;00m \u001b[38;5;28mself\u001b[39m\u001b[38;5;241m.\u001b[39m_once:\n\u001b[1;32m     40\u001b[0m     \u001b[38;5;28mself\u001b[39m\u001b[38;5;241m.\u001b[39m_listeners\u001b[38;5;241m.\u001b[39mremove(listener)\n\u001b[0;32m---> 41\u001b[0m \u001b[43mlistener\u001b[49m\u001b[43m(\u001b[49m\u001b[38;5;241;43m*\u001b[39;49m\u001b[43margs\u001b[49m\u001b[43m,\u001b[49m\u001b[43m \u001b[49m\u001b[38;5;241;43m*\u001b[39;49m\u001b[38;5;241;43m*\u001b[39;49m\u001b[43mkwargs\u001b[49m\u001b[43m)\u001b[49m\n",
      "File \u001b[0;32m~/.cache/pypoetry/virtualenvs/advantis-uD4pUfUB-py3.10/lib/python3.10/site-packages/office365/sharepoint/client_context.py:272\u001b[0m, in \u001b[0;36mClientContext._authenticate_request\u001b[0;34m(self, request)\u001b[0m\n\u001b[1;32m    269\u001b[0m \u001b[38;5;28;01mdef\u001b[39;00m\u001b[38;5;250m \u001b[39m\u001b[38;5;21m_authenticate_request\u001b[39m(\u001b[38;5;28mself\u001b[39m, request):\n\u001b[1;32m    270\u001b[0m     \u001b[38;5;66;03m# type: (RequestOptions) -> None\u001b[39;00m\n\u001b[1;32m    271\u001b[0m \u001b[38;5;250m    \u001b[39m\u001b[38;5;124;03m\"\"\"Authenticate request\"\"\"\u001b[39;00m\n\u001b[0;32m--> 272\u001b[0m     \u001b[38;5;28;43mself\u001b[39;49m\u001b[38;5;241;43m.\u001b[39;49m\u001b[43mauthentication_context\u001b[49m\u001b[38;5;241;43m.\u001b[39;49m\u001b[43mauthenticate_request\u001b[49m\u001b[43m(\u001b[49m\u001b[43mrequest\u001b[49m\u001b[43m)\u001b[49m\n",
      "File \u001b[0;32m~/.cache/pypoetry/virtualenvs/advantis-uD4pUfUB-py3.10/lib/python3.10/site-packages/office365/runtime/auth/authentication_context.py:275\u001b[0m, in \u001b[0;36mAuthenticationContext.authenticate_request\u001b[0;34m(self, request)\u001b[0m\n\u001b[1;32m    273\u001b[0m \u001b[38;5;28;01mif\u001b[39;00m \u001b[38;5;28mself\u001b[39m\u001b[38;5;241m.\u001b[39m_authenticate \u001b[38;5;129;01mis\u001b[39;00m \u001b[38;5;28;01mNone\u001b[39;00m:\n\u001b[1;32m    274\u001b[0m     \u001b[38;5;28;01mraise\u001b[39;00m \u001b[38;5;167;01mValueError\u001b[39;00m(\u001b[38;5;124m\"\u001b[39m\u001b[38;5;124mAuthentication credentials are missing or invalid\u001b[39m\u001b[38;5;124m\"\u001b[39m)\n\u001b[0;32m--> 275\u001b[0m \u001b[38;5;28;43mself\u001b[39;49m\u001b[38;5;241;43m.\u001b[39;49m\u001b[43m_authenticate\u001b[49m\u001b[43m(\u001b[49m\u001b[43mrequest\u001b[49m\u001b[43m)\u001b[49m\n",
      "File \u001b[0;32m~/.cache/pypoetry/virtualenvs/advantis-uD4pUfUB-py3.10/lib/python3.10/site-packages/office365/runtime/auth/authentication_context.py:229\u001b[0m, in \u001b[0;36mAuthenticationContext.with_credentials.<locals>._authenticate\u001b[0;34m(request)\u001b[0m\n\u001b[1;32m    227\u001b[0m \u001b[38;5;28;01mdef\u001b[39;00m\u001b[38;5;250m \u001b[39m\u001b[38;5;21m_authenticate\u001b[39m(request):\n\u001b[1;32m    228\u001b[0m     \u001b[38;5;66;03m# type: (RequestOptions) -> None\u001b[39;00m\n\u001b[0;32m--> 229\u001b[0m     \u001b[43mprovider\u001b[49m\u001b[38;5;241;43m.\u001b[39;49m\u001b[43mauthenticate_request\u001b[49m\u001b[43m(\u001b[49m\u001b[43mrequest\u001b[49m\u001b[43m)\u001b[49m\n",
      "File \u001b[0;32m~/.cache/pypoetry/virtualenvs/advantis-uD4pUfUB-py3.10/lib/python3.10/site-packages/office365/runtime/auth/providers/acs_token_provider.py:36\u001b[0m, in \u001b[0;36mACSTokenProvider.authenticate_request\u001b[0;34m(self, request)\u001b[0m\n\u001b[1;32m     33\u001b[0m \u001b[38;5;28;01mdef\u001b[39;00m\u001b[38;5;250m \u001b[39m\u001b[38;5;21mauthenticate_request\u001b[39m(\u001b[38;5;28mself\u001b[39m, request):\n\u001b[1;32m     34\u001b[0m     \u001b[38;5;66;03m# type: (RequestOptions) -> None\u001b[39;00m\n\u001b[1;32m     35\u001b[0m     \u001b[38;5;28;01mif\u001b[39;00m \u001b[38;5;28mself\u001b[39m\u001b[38;5;241m.\u001b[39m_cached_token \u001b[38;5;129;01mis\u001b[39;00m \u001b[38;5;28;01mNone\u001b[39;00m:\n\u001b[0;32m---> 36\u001b[0m         \u001b[38;5;28mself\u001b[39m\u001b[38;5;241m.\u001b[39m_cached_token \u001b[38;5;241m=\u001b[39m \u001b[38;5;28;43mself\u001b[39;49m\u001b[38;5;241;43m.\u001b[39;49m\u001b[43mget_app_only_access_token\u001b[49m\u001b[43m(\u001b[49m\u001b[43m)\u001b[49m\n\u001b[1;32m     37\u001b[0m     request\u001b[38;5;241m.\u001b[39mset_header(\u001b[38;5;124m\"\u001b[39m\u001b[38;5;124mAuthorization\u001b[39m\u001b[38;5;124m\"\u001b[39m, \u001b[38;5;28mself\u001b[39m\u001b[38;5;241m.\u001b[39m_cached_token\u001b[38;5;241m.\u001b[39mauthorization_header)\n",
      "File \u001b[0;32m~/.cache/pypoetry/virtualenvs/advantis-uD4pUfUB-py3.10/lib/python3.10/site-packages/office365/runtime/auth/providers/acs_token_provider.py:51\u001b[0m, in \u001b[0;36mACSTokenProvider.get_app_only_access_token\u001b[0;34m(self)\u001b[0m\n\u001b[1;32m     45\u001b[0m \u001b[38;5;28;01mexcept\u001b[39;00m requests\u001b[38;5;241m.\u001b[39mexceptions\u001b[38;5;241m.\u001b[39mRequestException \u001b[38;5;28;01mas\u001b[39;00m e:\n\u001b[1;32m     46\u001b[0m     \u001b[38;5;28mself\u001b[39m\u001b[38;5;241m.\u001b[39merror \u001b[38;5;241m=\u001b[39m (\n\u001b[1;32m     47\u001b[0m         e\u001b[38;5;241m.\u001b[39mresponse\u001b[38;5;241m.\u001b[39mtext\n\u001b[1;32m     48\u001b[0m         \u001b[38;5;28;01mif\u001b[39;00m e\u001b[38;5;241m.\u001b[39mresponse \u001b[38;5;129;01mis\u001b[39;00m \u001b[38;5;129;01mnot\u001b[39;00m \u001b[38;5;28;01mNone\u001b[39;00m\n\u001b[1;32m     49\u001b[0m         \u001b[38;5;28;01melse\u001b[39;00m \u001b[38;5;124m\"\u001b[39m\u001b[38;5;124mAcquire app-only access token failed.\u001b[39m\u001b[38;5;124m\"\u001b[39m\n\u001b[1;32m     50\u001b[0m     )\n\u001b[0;32m---> 51\u001b[0m     \u001b[38;5;28;01mraise\u001b[39;00m \u001b[38;5;167;01mValueError\u001b[39;00m(\u001b[38;5;28mself\u001b[39m\u001b[38;5;241m.\u001b[39merror)\n",
      "\u001b[0;31mValueError\u001b[0m: {\"error\":\"unauthorized_client\",\"error_description\":\"AADSTS700016: Application with identifier '15989844-7b87-4c40-b853-3092cf57a8c0' was not found in the directory 'Reservations Gateway Pvt Ltd'. This can happen if the application has not been installed by the administrator of the tenant or consented to by any user in the tenant. You may have sent your authentication request to the wrong tenant. Trace ID: cd2710ab-2f83-43a8-b115-1e4dd0387e00 Correlation ID: 6fd0defd-d7ca-4686-b86c-f9a4bbf87ab2 Timestamp: 2025-05-15 00:35:14Z\",\"error_codes\":[700016],\"timestamp\":\"2025-05-15 00:35:14Z\",\"trace_id\":\"cd2710ab-2f83-43a8-b115-1e4dd0387e00\",\"correlation_id\":\"6fd0defd-d7ca-4686-b86c-f9a4bbf87ab2\",\"error_uri\":\"https://accounts.accesscontrol.windows.net/error?code=700016\"}"
     ]
    }
   ],
   "source": [
    "import os\n",
    "from dotenv import load_dotenv\n",
    "load_dotenv()\n",
    "\n",
    "import pandas as pd\n",
    "from io import BytesIO\n",
    "\n",
    "from office365.sharepoint.client_context import ClientContext\n",
    "from office365.runtime.auth.client_credential import ClientCredential\n",
    "\n",
    "# 1. Load credentials and authenticate\n",
    "site_url = \"https://rezgateway.sharepoint.com/sites/hayleysadvantis-Proposals\"\n",
    "client_id = os.getenv('AZURE_CLIENT_ID')\n",
    "client_secret = os.getenv('AZURE_CLIENT_SECRET')\n",
    "\n",
    "credentials = ClientCredential(client_id, client_secret)\n",
    "ctx = ClientContext(site_url).with_credentials(credentials)\n",
    "\n",
    "# 2. Define file path (this is the server-relative URL)\n",
    "file_url = \"/sites/hayleysadvantis-Proposals/Shared Documents/POC/get_schedule_inputs.csv\"\n",
    "file = ctx.web.get_file_by_server_relative_path(file_url)\n",
    "\n",
    "# 3. Load file metadata (required)\n",
    "ctx.load(file)\n",
    "ctx.execute_query()\n",
    "\n",
    "# 4. Download file content\n",
    "file_content = file.read()\n",
    "ctx.execute_query()\n",
    "\n",
    "# 5. Read CSV content into a DataFrame\n",
    "df = pd.read_csv(BytesIO(file_content.content))\n",
    "print(df.head())\n"
   ]
  },
  {
   "cell_type": "code",
   "execution_count": null,
   "id": "01922fba-ba89-4ad9-8ab5-32ce8097b188",
   "metadata": {},
   "outputs": [],
   "source": []
  }
 ],
 "metadata": {
  "kernelspec": {
   "display_name": "advantis-uD4pUfUB-py3.10",
   "language": "python",
   "name": "advantis-ud4pufub-py3.10"
  },
  "language_info": {
   "codemirror_mode": {
    "name": "ipython",
    "version": 3
   },
   "file_extension": ".py",
   "mimetype": "text/x-python",
   "name": "python",
   "nbconvert_exporter": "python",
   "pygments_lexer": "ipython3",
   "version": "3.10.17"
  }
 },
 "nbformat": 4,
 "nbformat_minor": 5
}
