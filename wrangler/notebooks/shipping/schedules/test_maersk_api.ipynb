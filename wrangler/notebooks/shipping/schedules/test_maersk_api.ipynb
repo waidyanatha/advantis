{
 "cells": [
  {
   "cell_type": "markdown",
   "id": "fd9defac-fb59-4c42-b6df-a54849b3100d",
   "metadata": {},
   "source": [
    "## 1. Get consumer key"
   ]
  },
  {
   "cell_type": "code",
   "execution_count": 1,
   "id": "3b255b11-23da-480b-9a72-df1943ab5198",
   "metadata": {},
   "outputs": [
    {
     "name": "stdout",
     "output_type": "stream",
     "text": [
      "data folder:\n",
      "/home/nuwan/workspace/advantis/wrangler/data/shipping/schedules\n"
     ]
    }
   ],
   "source": [
    "import os\n",
    "from dotenv import load_dotenv\n",
    "load_dotenv()\n",
    "consumer_key=os.getenv('MAERSK_CONSUMER_KEY')\n",
    "''' set data folder path '''\n",
    "proj_dir = os.path.abspath(os.pardir)\n",
    "_dpath = os.path.join(\n",
    "    proj_dir.split('wrangler/')[0],\n",
    "    \"wrangler/data/shipping/schedules\"\n",
    ")\n",
    "print(f'data folder:\\n{_dpath}')"
   ]
  },
  {
   "cell_type": "markdown",
   "id": "5360d5c3-066e-458a-99d8-406b9154593c",
   "metadata": {},
   "source": [
    "## 2. Define input params"
   ]
  },
  {
   "cell_type": "code",
   "execution_count": 2,
   "id": "f7bdcab3-34c4-4fa6-a7af-c4323c2d4d4c",
   "metadata": {},
   "outputs": [
    {
     "data": {
      "text/plain": [
       "{'collectionOriginCountryCode': 'LK',\n",
       " 'collectionOriginCityName': 'Colombo',\n",
       " 'deliveryDestinationCountryCode': 'CN',\n",
       " 'deliveryDestinationCityName': 'Qinzhou',\n",
       " 'vesselOperatorCarrierCode': 'MAEU'}"
      ]
     },
     "execution_count": 2,
     "metadata": {},
     "output_type": "execute_result"
    }
   ],
   "source": [
    "import pandas as pd\n",
    "\n",
    "_inp_fpath = os.path.join(_dpath, \"get_schedule_inputs.csv\")\n",
    "input_df = pd.read_csv(_inp_fpath)\n",
    "\n",
    "params = {\n",
    "    \"collectionOriginCountryCode\": input_df.iloc[0]['Originating place'],\n",
    "    \"collectionOriginCityName\": input_df.iloc[0]['Originating port'],\n",
    "    \"deliveryDestinationCountryCode\": input_df.iloc[0]['Delivery place'],\n",
    "    \"deliveryDestinationCityName\": input_df.iloc[0]['Discharge port'],\n",
    "    \"vesselOperatorCarrierCode\": input_df.iloc[0]['Vessel'],\n",
    "}\n",
    "params"
   ]
  },
  {
   "cell_type": "markdown",
   "id": "4ef97c99-b953-4808-a7b2-038c7866b174",
   "metadata": {},
   "source": [
    "## 3. Request schedules"
   ]
  },
  {
   "cell_type": "code",
   "execution_count": 3,
   "id": "527cff82-e5f1-4e4c-97e9-90a394b9d7f7",
   "metadata": {
    "scrolled": true
   },
   "outputs": [
    {
     "name": "stdout",
     "output_type": "stream",
     "text": [
      "Success! Response:\n",
      "recovered 3 transport schedules\n"
     ]
    }
   ],
   "source": [
    "import requests\n",
    "import json\n",
    "\n",
    "url = \"https://api.maersk.com/products/ocean-products\"\n",
    "headers_a = {\n",
    "    \"Accept\": \"application/json\",\n",
    "    \"Consumer-Key\": consumer_key,  # Add your actual API key\n",
    "    # \"Content-Type\": \"application/json\"\n",
    "}\n",
    "\n",
    "try:\n",
    "    response = requests.get(\n",
    "        url,\n",
    "        params=params,\n",
    "        headers=headers_a\n",
    "    )\n",
    "    \n",
    "    # Check if request was successful\n",
    "    if response.status_code == 200:\n",
    "        print(\"Success! Response:\")\n",
    "        num_sched =len(response.json()['oceanProducts'][0]['transportSchedules'])\n",
    "        print(f\"recovered {num_sched} transport schedules\")\n",
    "    else:\n",
    "        print(f\"Error {response.status_code}: {response.text}\")\n",
    "\n",
    "except requests.exceptions.RequestException as e:\n",
    "    print(f\"Request failed: {e}\")"
   ]
  },
  {
   "cell_type": "markdown",
   "id": "b2206708-5811-4840-8177-0da15007803b",
   "metadata": {},
   "source": [
    "## 4. Dump response to json file"
   ]
  },
  {
   "cell_type": "code",
   "execution_count": 4,
   "id": "6a3f5fbd-9d28-461f-817a-3418011ecda9",
   "metadata": {},
   "outputs": [],
   "source": [
    "_dump_fpath = os.path.join(_dpath,\"maersk_response.json\")\n",
    "with open(_dump_fpath, 'w') as f:\n",
    "    json.dump(response.json(), f)\n"
   ]
  },
  {
   "cell_type": "markdown",
   "id": "9df650b4-f21a-482c-a412-4b579e10fb01",
   "metadata": {},
   "source": [
    "## 5. Parse results"
   ]
  },
  {
   "cell_type": "code",
   "execution_count": 8,
   "id": "4f8b4294-2163-4980-b9f4-8fb19ba46248",
   "metadata": {},
   "outputs": [
    {
     "name": "stdout",
     "output_type": "stream",
     "text": [
      "['Cargo ready date', 'Cargo delivered on', 'Vessel', 'H.SCODE', 'Originating port', 'Originating place', 'Discharge port', 'Delivery place', 'booking file', ' from', ' subject']\n"
     ]
    }
   ],
   "source": [
    "print(input_df.columns.tolist())"
   ]
  },
  {
   "cell_type": "code",
   "execution_count": 7,
   "id": "fd1d9cc2-b151-4523-a066-f8a3c083fd5c",
   "metadata": {
    "scrolled": true
   },
   "outputs": [
    {
     "ename": "KeyError",
     "evalue": "'subject'",
     "output_type": "error",
     "traceback": [
      "\u001b[0;31m---------------------------------------------------------------------------\u001b[0m",
      "\u001b[0;31mKeyError\u001b[0m                                  Traceback (most recent call last)",
      "File \u001b[0;32m~/.cache/pypoetry/virtualenvs/advantis-uD4pUfUB-py3.10/lib/python3.10/site-packages/pandas/core/indexes/base.py:3802\u001b[0m, in \u001b[0;36mIndex.get_loc\u001b[0;34m(self, key, method, tolerance)\u001b[0m\n\u001b[1;32m   3801\u001b[0m \u001b[38;5;28;01mtry\u001b[39;00m:\n\u001b[0;32m-> 3802\u001b[0m     \u001b[38;5;28;01mreturn\u001b[39;00m \u001b[38;5;28;43mself\u001b[39;49m\u001b[38;5;241;43m.\u001b[39;49m\u001b[43m_engine\u001b[49m\u001b[38;5;241;43m.\u001b[39;49m\u001b[43mget_loc\u001b[49m\u001b[43m(\u001b[49m\u001b[43mcasted_key\u001b[49m\u001b[43m)\u001b[49m\n\u001b[1;32m   3803\u001b[0m \u001b[38;5;28;01mexcept\u001b[39;00m \u001b[38;5;167;01mKeyError\u001b[39;00m \u001b[38;5;28;01mas\u001b[39;00m err:\n",
      "File \u001b[0;32m~/.cache/pypoetry/virtualenvs/advantis-uD4pUfUB-py3.10/lib/python3.10/site-packages/pandas/_libs/index.pyx:138\u001b[0m, in \u001b[0;36mpandas._libs.index.IndexEngine.get_loc\u001b[0;34m()\u001b[0m\n",
      "File \u001b[0;32m~/.cache/pypoetry/virtualenvs/advantis-uD4pUfUB-py3.10/lib/python3.10/site-packages/pandas/_libs/index.pyx:165\u001b[0m, in \u001b[0;36mpandas._libs.index.IndexEngine.get_loc\u001b[0;34m()\u001b[0m\n",
      "File \u001b[0;32mpandas/_libs/hashtable_class_helper.pxi:5745\u001b[0m, in \u001b[0;36mpandas._libs.hashtable.PyObjectHashTable.get_item\u001b[0;34m()\u001b[0m\n",
      "File \u001b[0;32mpandas/_libs/hashtable_class_helper.pxi:5753\u001b[0m, in \u001b[0;36mpandas._libs.hashtable.PyObjectHashTable.get_item\u001b[0;34m()\u001b[0m\n",
      "\u001b[0;31mKeyError\u001b[0m: 'subject'",
      "\nThe above exception was the direct cause of the following exception:\n",
      "\u001b[0;31mKeyError\u001b[0m                                  Traceback (most recent call last)",
      "Cell \u001b[0;32mIn[7], line 26\u001b[0m\n\u001b[1;32m     24\u001b[0m sched_dict[\u001b[38;5;124m'\u001b[39m\u001b[38;5;124mbookingFile\u001b[39m\u001b[38;5;124m'\u001b[39m] \u001b[38;5;241m=\u001b[39m input_df\u001b[38;5;241m.\u001b[39miloc[\u001b[38;5;241m0\u001b[39m][\u001b[38;5;124m'\u001b[39m\u001b[38;5;124mbooking file\u001b[39m\u001b[38;5;124m'\u001b[39m]\n\u001b[1;32m     25\u001b[0m \u001b[38;5;66;03m# sched_dict['from'] = input_df.iloc[0]['from']\u001b[39;00m\n\u001b[0;32m---> 26\u001b[0m sched_dict[\u001b[38;5;124m'\u001b[39m\u001b[38;5;124msubject\u001b[39m\u001b[38;5;124m'\u001b[39m] \u001b[38;5;241m=\u001b[39m \u001b[43minput_df\u001b[49m\u001b[38;5;241;43m.\u001b[39;49m\u001b[43miloc\u001b[49m\u001b[43m[\u001b[49m\u001b[38;5;241;43m0\u001b[39;49m\u001b[43m]\u001b[49m\u001b[43m[\u001b[49m\u001b[38;5;124;43m'\u001b[39;49m\u001b[38;5;124;43msubject\u001b[39;49m\u001b[38;5;124;43m'\u001b[39;49m\u001b[43m]\u001b[49m\n\u001b[1;32m     27\u001b[0m \u001b[38;5;66;03m# sched_df = sched_df.append(sched_dict,ignore_index=True)\u001b[39;00m\n\u001b[1;32m     28\u001b[0m sched_df \u001b[38;5;241m=\u001b[39m pd\u001b[38;5;241m.\u001b[39mconcat([sched_df, pd\u001b[38;5;241m.\u001b[39mDataFrame([sched_dict])], ignore_index\u001b[38;5;241m=\u001b[39m\u001b[38;5;28;01mTrue\u001b[39;00m)\n",
      "File \u001b[0;32m~/.cache/pypoetry/virtualenvs/advantis-uD4pUfUB-py3.10/lib/python3.10/site-packages/pandas/core/series.py:981\u001b[0m, in \u001b[0;36mSeries.__getitem__\u001b[0;34m(self, key)\u001b[0m\n\u001b[1;32m    978\u001b[0m     \u001b[38;5;28;01mreturn\u001b[39;00m \u001b[38;5;28mself\u001b[39m\u001b[38;5;241m.\u001b[39m_values[key]\n\u001b[1;32m    980\u001b[0m \u001b[38;5;28;01melif\u001b[39;00m key_is_scalar:\n\u001b[0;32m--> 981\u001b[0m     \u001b[38;5;28;01mreturn\u001b[39;00m \u001b[38;5;28;43mself\u001b[39;49m\u001b[38;5;241;43m.\u001b[39;49m\u001b[43m_get_value\u001b[49m\u001b[43m(\u001b[49m\u001b[43mkey\u001b[49m\u001b[43m)\u001b[49m\n\u001b[1;32m    983\u001b[0m \u001b[38;5;28;01mif\u001b[39;00m is_hashable(key):\n\u001b[1;32m    984\u001b[0m     \u001b[38;5;66;03m# Otherwise index.get_value will raise InvalidIndexError\u001b[39;00m\n\u001b[1;32m    985\u001b[0m     \u001b[38;5;28;01mtry\u001b[39;00m:\n\u001b[1;32m    986\u001b[0m         \u001b[38;5;66;03m# For labels that don't resolve as scalars like tuples and frozensets\u001b[39;00m\n",
      "File \u001b[0;32m~/.cache/pypoetry/virtualenvs/advantis-uD4pUfUB-py3.10/lib/python3.10/site-packages/pandas/core/series.py:1089\u001b[0m, in \u001b[0;36mSeries._get_value\u001b[0;34m(self, label, takeable)\u001b[0m\n\u001b[1;32m   1086\u001b[0m     \u001b[38;5;28;01mreturn\u001b[39;00m \u001b[38;5;28mself\u001b[39m\u001b[38;5;241m.\u001b[39m_values[label]\n\u001b[1;32m   1088\u001b[0m \u001b[38;5;66;03m# Similar to Index.get_value, but we do not fall back to positional\u001b[39;00m\n\u001b[0;32m-> 1089\u001b[0m loc \u001b[38;5;241m=\u001b[39m \u001b[38;5;28;43mself\u001b[39;49m\u001b[38;5;241;43m.\u001b[39;49m\u001b[43mindex\u001b[49m\u001b[38;5;241;43m.\u001b[39;49m\u001b[43mget_loc\u001b[49m\u001b[43m(\u001b[49m\u001b[43mlabel\u001b[49m\u001b[43m)\u001b[49m\n\u001b[1;32m   1090\u001b[0m \u001b[38;5;28;01mreturn\u001b[39;00m \u001b[38;5;28mself\u001b[39m\u001b[38;5;241m.\u001b[39mindex\u001b[38;5;241m.\u001b[39m_get_values_for_loc(\u001b[38;5;28mself\u001b[39m, loc, label)\n",
      "File \u001b[0;32m~/.cache/pypoetry/virtualenvs/advantis-uD4pUfUB-py3.10/lib/python3.10/site-packages/pandas/core/indexes/base.py:3804\u001b[0m, in \u001b[0;36mIndex.get_loc\u001b[0;34m(self, key, method, tolerance)\u001b[0m\n\u001b[1;32m   3802\u001b[0m     \u001b[38;5;28;01mreturn\u001b[39;00m \u001b[38;5;28mself\u001b[39m\u001b[38;5;241m.\u001b[39m_engine\u001b[38;5;241m.\u001b[39mget_loc(casted_key)\n\u001b[1;32m   3803\u001b[0m \u001b[38;5;28;01mexcept\u001b[39;00m \u001b[38;5;167;01mKeyError\u001b[39;00m \u001b[38;5;28;01mas\u001b[39;00m err:\n\u001b[0;32m-> 3804\u001b[0m     \u001b[38;5;28;01mraise\u001b[39;00m \u001b[38;5;167;01mKeyError\u001b[39;00m(key) \u001b[38;5;28;01mfrom\u001b[39;00m\u001b[38;5;250m \u001b[39m\u001b[38;5;21;01merr\u001b[39;00m\n\u001b[1;32m   3805\u001b[0m \u001b[38;5;28;01mexcept\u001b[39;00m \u001b[38;5;167;01mTypeError\u001b[39;00m:\n\u001b[1;32m   3806\u001b[0m     \u001b[38;5;66;03m# If we have a listlike key, _check_indexing_error will raise\u001b[39;00m\n\u001b[1;32m   3807\u001b[0m     \u001b[38;5;66;03m#  InvalidIndexError. Otherwise we fall through and re-raise\u001b[39;00m\n\u001b[1;32m   3808\u001b[0m     \u001b[38;5;66;03m#  the TypeError.\u001b[39;00m\n\u001b[1;32m   3809\u001b[0m     \u001b[38;5;28mself\u001b[39m\u001b[38;5;241m.\u001b[39m_check_indexing_error(key)\n",
      "\u001b[0;31mKeyError\u001b[0m: 'subject'"
     ]
    }
   ],
   "source": [
    "cols = ['schedule', 'departDateTime', 'arriveDateTime', 'transitTime',\n",
    "        'originCountryCode', 'originUNPortCode', 'originCityName',\n",
    "        'destinCountryCode', 'destinUNPortCode', 'destinCityName',\n",
    "        'bookingFile', 'from', 'subject',\n",
    "       ]\n",
    "\n",
    "# for key in response.json()['oceanProducts'].keys():\n",
    "#     print(key)\n",
    "sched_df = pd.DataFrame(columns=cols)\n",
    "sched_lst = []\n",
    "i=0\n",
    "for schedule in response.json()['oceanProducts'][0]['transportSchedules']:\n",
    "    sched_dict = {}\n",
    "    sched_dict['schedule'] = i\n",
    "    sched_dict['departDateTime'] = schedule['departureDateTime']\n",
    "    sched_dict['arriveDateTime'] = schedule['arrivalDateTime']\n",
    "    sched_dict['transitTime'] = int(schedule['transitTime'])/(360)\n",
    "    sched_dict['originCountryCode']=schedule['facilities']['collectionOrigin']['countryCode']\n",
    "    sched_dict['originUNPortCode'] =schedule['facilities']['collectionOrigin']['UNLocationCode']\n",
    "    sched_dict['originCityName'] = schedule['facilities']['collectionOrigin']['cityName']\n",
    "    sched_dict['destinCountryCode']=schedule['facilities']['deliveryDestination']['countryCode']\n",
    "    sched_dict['destinUNPortCode'] =schedule['facilities']['deliveryDestination']['UNLocationCode']\n",
    "    sched_dict['destinCityName'] = schedule['facilities']['deliveryDestination']['cityName']\n",
    "    sched_dict['bookingFile'] = input_df.iloc[0]['booking file']\n",
    "    # sched_dict['from'] = input_df.iloc[0]['from']\n",
    "    sched_dict['subject'] = input_df.iloc[0]['subject']\n",
    "    # sched_df = sched_df.append(sched_dict,ignore_index=True)\n",
    "    sched_df = pd.concat([sched_df, pd.DataFrame([sched_dict])], ignore_index=True)\n",
    "    i+=1\n",
    "sched_df"
   ]
  },
  {
   "cell_type": "markdown",
   "id": "1f48d729-dfa0-460e-b6ff-37f4a6dbf7f1",
   "metadata": {},
   "source": [
    "## 6. Write results to JSON"
   ]
  },
  {
   "cell_type": "code",
   "execution_count": 5,
   "id": "599508d7-ff4f-4656-9b92-501a21e23e12",
   "metadata": {},
   "outputs": [],
   "source": [
    "_out_fpath = os.path.join(_dpath, \"results_maersk_schedules.json\")\n",
    "# sched_df.to_excel(_fpath, index=False)\n",
    "sched_df.to_json(_out_fpath,orient='table')"
   ]
  },
  {
   "cell_type": "code",
   "execution_count": null,
   "id": "2f546052-66b2-4a72-a84a-b4a3ac486c8b",
   "metadata": {},
   "outputs": [],
   "source": []
  }
 ],
 "metadata": {
  "kernelspec": {
   "display_name": "Python 3 (ipykernel)",
   "language": "python",
   "name": "python3"
  },
  "language_info": {
   "codemirror_mode": {
    "name": "ipython",
    "version": 3
   },
   "file_extension": ".py",
   "mimetype": "text/x-python",
   "name": "python",
   "nbconvert_exporter": "python",
   "pygments_lexer": "ipython3",
   "version": "3.10.17"
  }
 },
 "nbformat": 4,
 "nbformat_minor": 5
}
