{
 "cells": [
  {
   "cell_type": "markdown",
   "id": "fd9defac-fb59-4c42-b6df-a54849b3100d",
   "metadata": {},
   "source": [
    "## 1. Get consumer key"
   ]
  },
  {
   "cell_type": "code",
   "execution_count": 1,
   "id": "3b255b11-23da-480b-9a72-df1943ab5198",
   "metadata": {},
   "outputs": [
    {
     "name": "stdout",
     "output_type": "stream",
     "text": [
      "data folder:\n",
      "/home/nuwan/workspace/advantis/wrangler/data/shipping/schedules\n"
     ]
    }
   ],
   "source": [
    "import os\n",
    "from dotenv import load_dotenv\n",
    "load_dotenv()\n",
    "consumer_key=os.getenv('MAERSK_CONSUMER_KEY')\n",
    "''' set data folder path '''\n",
    "proj_dir = os.path.abspath(os.pardir)\n",
    "_dpath = os.path.join(\n",
    "    proj_dir.split('wrangler/')[0],\n",
    "    \"wrangler/data/shipping/schedules\"\n",
    ")\n",
    "print(f'data folder:\\n{_dpath}')"
   ]
  },
  {
   "cell_type": "markdown",
   "id": "5360d5c3-066e-458a-99d8-406b9154593c",
   "metadata": {},
   "source": [
    "## 2. Define input params"
   ]
  },
  {
   "cell_type": "code",
   "execution_count": 7,
   "id": "f7bdcab3-34c4-4fa6-a7af-c4323c2d4d4c",
   "metadata": {},
   "outputs": [
    {
     "data": {
      "text/plain": [
       "{'collectionOriginCountryCode': 'LK',\n",
       " 'collectionOriginCityName': 'Colombo',\n",
       " 'deliveryDestinationCountryCode': 'TH',\n",
       " 'deliveryDestinationCityName': 'Bangkok',\n",
       " 'vesselOperatorCarrierCode': 'MAEU'}"
      ]
     },
     "execution_count": 7,
     "metadata": {},
     "output_type": "execute_result"
    }
   ],
   "source": [
    "import pandas as pd\n",
    "\n",
    "_inp_fpath = os.path.join(_dpath, \"get_schedule_inputs.csv\")\n",
    "input_df = pd.read_csv(_inp_fpath)\n",
    "\n",
    "params = {\n",
    "    \"collectionOriginCountryCode\": input_df.iloc[0]['Originating place'],\n",
    "    \"collectionOriginCityName\": input_df.iloc[0]['Originating port'],\n",
    "    \"deliveryDestinationCountryCode\": input_df.iloc[0]['Delivery place'],\n",
    "    \"deliveryDestinationCityName\": input_df.iloc[0]['Discharge port'],\n",
    "    \"vesselOperatorCarrierCode\": input_df.iloc[0]['Vessel'],\n",
    "}\n",
    "params"
   ]
  },
  {
   "cell_type": "markdown",
   "id": "4ef97c99-b953-4808-a7b2-038c7866b174",
   "metadata": {},
   "source": [
    "## 3. Request schedules"
   ]
  },
  {
   "cell_type": "code",
   "execution_count": 8,
   "id": "527cff82-e5f1-4e4c-97e9-90a394b9d7f7",
   "metadata": {
    "scrolled": true
   },
   "outputs": [
    {
     "name": "stdout",
     "output_type": "stream",
     "text": [
      "Success! Response:\n",
      "recovered 4 transport schedules\n"
     ]
    }
   ],
   "source": [
    "import requests\n",
    "import json\n",
    "\n",
    "url = \"https://api.maersk.com/products/ocean-products\"\n",
    "headers_a = {\n",
    "    \"Accept\": \"application/json\",\n",
    "    \"Consumer-Key\": consumer_key,  # Add your actual API key\n",
    "    # \"Content-Type\": \"application/json\"\n",
    "}\n",
    "\n",
    "try:\n",
    "    response = requests.get(\n",
    "        url,\n",
    "        params=params,\n",
    "        headers=headers_a\n",
    "    )\n",
    "    \n",
    "    # Check if request was successful\n",
    "    if response.status_code == 200:\n",
    "        print(\"Success! Response:\")\n",
    "        num_sched =len(response.json()['oceanProducts'][0]['transportSchedules'])\n",
    "        print(f\"recovered {num_sched} transport schedules\")\n",
    "    else:\n",
    "        print(f\"Error {response.status_code}: {response.text}\")\n",
    "\n",
    "except requests.exceptions.RequestException as e:\n",
    "    print(f\"Request failed: {e}\")"
   ]
  },
  {
   "cell_type": "markdown",
   "id": "b2206708-5811-4840-8177-0da15007803b",
   "metadata": {},
   "source": [
    "## 4. Dump response to json file"
   ]
  },
  {
   "cell_type": "code",
   "execution_count": 9,
   "id": "6a3f5fbd-9d28-461f-817a-3418011ecda9",
   "metadata": {},
   "outputs": [],
   "source": [
    "_dump_fpath = os.path.join(_dpath,\"maersk_response.json\")\n",
    "with open(_dump_fpath, 'w') as f:\n",
    "    json.dump(response.json(), f)\n"
   ]
  },
  {
   "cell_type": "markdown",
   "id": "9df650b4-f21a-482c-a412-4b579e10fb01",
   "metadata": {},
   "source": [
    "## 5. Parse results"
   ]
  },
  {
   "cell_type": "code",
   "execution_count": 10,
   "id": "fd1d9cc2-b151-4523-a066-f8a3c083fd5c",
   "metadata": {
    "scrolled": true
   },
   "outputs": [
    {
     "data": {
      "text/html": [
       "<div>\n",
       "<style scoped>\n",
       "    .dataframe tbody tr th:only-of-type {\n",
       "        vertical-align: middle;\n",
       "    }\n",
       "\n",
       "    .dataframe tbody tr th {\n",
       "        vertical-align: top;\n",
       "    }\n",
       "\n",
       "    .dataframe thead th {\n",
       "        text-align: right;\n",
       "    }\n",
       "</style>\n",
       "<table border=\"1\" class=\"dataframe\">\n",
       "  <thead>\n",
       "    <tr style=\"text-align: right;\">\n",
       "      <th></th>\n",
       "      <th>schedule</th>\n",
       "      <th>departDateTime</th>\n",
       "      <th>arriveDateTime</th>\n",
       "      <th>transitTime</th>\n",
       "      <th>originCountryCode</th>\n",
       "      <th>originUNPortCode</th>\n",
       "      <th>originCityName</th>\n",
       "      <th>destinCountryCode</th>\n",
       "      <th>destinUNPortCode</th>\n",
       "      <th>destinCityName</th>\n",
       "      <th>bookingFile</th>\n",
       "      <th>from</th>\n",
       "      <th>subject</th>\n",
       "    </tr>\n",
       "  </thead>\n",
       "  <tbody>\n",
       "    <tr>\n",
       "      <th>0</th>\n",
       "      <td>0</td>\n",
       "      <td>2025-05-26T00:01:00</td>\n",
       "      <td>2025-06-19T14:00:00</td>\n",
       "      <td>98.330556</td>\n",
       "      <td>LK</td>\n",
       "      <td>LKCMB</td>\n",
       "      <td>Colombo</td>\n",
       "      <td>TH</td>\n",
       "      <td>THLKR</td>\n",
       "      <td>Bangkok</td>\n",
       "      <td>temp_booking_dbc6fc39-a0f4-42ea-bc65-3fd13fdb3...</td>\n",
       "      <td>paul.deniese@rezgateway.com</td>\n",
       "      <td>for  Ref: 124_23_05_2025</td>\n",
       "    </tr>\n",
       "    <tr>\n",
       "      <th>1</th>\n",
       "      <td>1</td>\n",
       "      <td>2025-06-01T00:01:00</td>\n",
       "      <td>2025-06-26T14:00:00</td>\n",
       "      <td>102.330556</td>\n",
       "      <td>LK</td>\n",
       "      <td>LKCMB</td>\n",
       "      <td>Colombo</td>\n",
       "      <td>TH</td>\n",
       "      <td>THLKR</td>\n",
       "      <td>Bangkok</td>\n",
       "      <td>temp_booking_dbc6fc39-a0f4-42ea-bc65-3fd13fdb3...</td>\n",
       "      <td>paul.deniese@rezgateway.com</td>\n",
       "      <td>for  Ref: 124_23_05_2025</td>\n",
       "    </tr>\n",
       "    <tr>\n",
       "      <th>2</th>\n",
       "      <td>2</td>\n",
       "      <td>2025-06-09T00:01:00</td>\n",
       "      <td>2025-07-03T14:00:00</td>\n",
       "      <td>98.330556</td>\n",
       "      <td>LK</td>\n",
       "      <td>LKCMB</td>\n",
       "      <td>Colombo</td>\n",
       "      <td>TH</td>\n",
       "      <td>THLKR</td>\n",
       "      <td>Bangkok</td>\n",
       "      <td>temp_booking_dbc6fc39-a0f4-42ea-bc65-3fd13fdb3...</td>\n",
       "      <td>paul.deniese@rezgateway.com</td>\n",
       "      <td>for  Ref: 124_23_05_2025</td>\n",
       "    </tr>\n",
       "    <tr>\n",
       "      <th>3</th>\n",
       "      <td>3</td>\n",
       "      <td>2025-06-16T00:01:00</td>\n",
       "      <td>2025-07-10T14:00:00</td>\n",
       "      <td>98.330556</td>\n",
       "      <td>LK</td>\n",
       "      <td>LKCMB</td>\n",
       "      <td>Colombo</td>\n",
       "      <td>TH</td>\n",
       "      <td>THLKR</td>\n",
       "      <td>Bangkok</td>\n",
       "      <td>temp_booking_dbc6fc39-a0f4-42ea-bc65-3fd13fdb3...</td>\n",
       "      <td>paul.deniese@rezgateway.com</td>\n",
       "      <td>for  Ref: 124_23_05_2025</td>\n",
       "    </tr>\n",
       "  </tbody>\n",
       "</table>\n",
       "</div>"
      ],
      "text/plain": [
       "  schedule       departDateTime       arriveDateTime  transitTime  \\\n",
       "0        0  2025-05-26T00:01:00  2025-06-19T14:00:00    98.330556   \n",
       "1        1  2025-06-01T00:01:00  2025-06-26T14:00:00   102.330556   \n",
       "2        2  2025-06-09T00:01:00  2025-07-03T14:00:00    98.330556   \n",
       "3        3  2025-06-16T00:01:00  2025-07-10T14:00:00    98.330556   \n",
       "\n",
       "  originCountryCode originUNPortCode originCityName destinCountryCode  \\\n",
       "0                LK            LKCMB        Colombo                TH   \n",
       "1                LK            LKCMB        Colombo                TH   \n",
       "2                LK            LKCMB        Colombo                TH   \n",
       "3                LK            LKCMB        Colombo                TH   \n",
       "\n",
       "  destinUNPortCode destinCityName  \\\n",
       "0            THLKR        Bangkok   \n",
       "1            THLKR        Bangkok   \n",
       "2            THLKR        Bangkok   \n",
       "3            THLKR        Bangkok   \n",
       "\n",
       "                                         bookingFile  \\\n",
       "0  temp_booking_dbc6fc39-a0f4-42ea-bc65-3fd13fdb3...   \n",
       "1  temp_booking_dbc6fc39-a0f4-42ea-bc65-3fd13fdb3...   \n",
       "2  temp_booking_dbc6fc39-a0f4-42ea-bc65-3fd13fdb3...   \n",
       "3  temp_booking_dbc6fc39-a0f4-42ea-bc65-3fd13fdb3...   \n",
       "\n",
       "                          from                    subject  \n",
       "0  paul.deniese@rezgateway.com   for  Ref: 124_23_05_2025  \n",
       "1  paul.deniese@rezgateway.com   for  Ref: 124_23_05_2025  \n",
       "2  paul.deniese@rezgateway.com   for  Ref: 124_23_05_2025  \n",
       "3  paul.deniese@rezgateway.com   for  Ref: 124_23_05_2025  "
      ]
     },
     "execution_count": 10,
     "metadata": {},
     "output_type": "execute_result"
    }
   ],
   "source": [
    "cols = ['schedule', 'departDateTime', 'arriveDateTime', 'transitTime',\n",
    "        'originCountryCode', 'originUNPortCode', 'originCityName',\n",
    "        'destinCountryCode', 'destinUNPortCode', 'destinCityName',\n",
    "        'bookingFile', 'from', 'subject',\n",
    "       ]\n",
    "\n",
    "# for key in response.json()['oceanProducts'].keys():\n",
    "#     print(key)\n",
    "sched_df = pd.DataFrame(columns=cols)\n",
    "sched_lst = []\n",
    "i=0\n",
    "for schedule in response.json()['oceanProducts'][0]['transportSchedules']:\n",
    "    sched_dict = {}\n",
    "    sched_dict['schedule'] = i\n",
    "    sched_dict['departDateTime'] = schedule['departureDateTime']\n",
    "    sched_dict['arriveDateTime'] = schedule['arrivalDateTime']\n",
    "    sched_dict['transitTime'] = int(schedule['transitTime'])/(360)\n",
    "    sched_dict['originCountryCode']=schedule['facilities']['collectionOrigin']['countryCode']\n",
    "    sched_dict['originUNPortCode'] =schedule['facilities']['collectionOrigin']['UNLocationCode']\n",
    "    sched_dict['originCityName'] = schedule['facilities']['collectionOrigin']['cityName']\n",
    "    sched_dict['destinCountryCode']=schedule['facilities']['deliveryDestination']['countryCode']\n",
    "    sched_dict['destinUNPortCode'] =schedule['facilities']['deliveryDestination']['UNLocationCode']\n",
    "    sched_dict['destinCityName'] = schedule['facilities']['deliveryDestination']['cityName']\n",
    "    sched_dict['bookingFile'] = input_df.iloc[0]['booking file']\n",
    "    sched_dict['from'] = input_df.iloc[0]['from']\n",
    "    sched_dict['subject'] = input_df.iloc[0]['subject']\n",
    "    # sched_df = sched_df.append(sched_dict,ignore_index=True)\n",
    "    sched_df = pd.concat([sched_df, pd.DataFrame([sched_dict])], ignore_index=True)\n",
    "    i+=1\n",
    "sched_df"
   ]
  },
  {
   "cell_type": "markdown",
   "id": "1f48d729-dfa0-460e-b6ff-37f4a6dbf7f1",
   "metadata": {},
   "source": [
    "## 6. Write results to JSON"
   ]
  },
  {
   "cell_type": "code",
   "execution_count": 11,
   "id": "599508d7-ff4f-4656-9b92-501a21e23e12",
   "metadata": {},
   "outputs": [],
   "source": [
    "_out_fpath = os.path.join(_dpath, \"results_maersk_schedules.json\")\n",
    "# sched_df.to_excel(_fpath, index=False)\n",
    "sched_df.to_json(_out_fpath,orient='table')"
   ]
  },
  {
   "cell_type": "code",
   "execution_count": null,
   "id": "2f546052-66b2-4a72-a84a-b4a3ac486c8b",
   "metadata": {},
   "outputs": [],
   "source": []
  }
 ],
 "metadata": {
  "kernelspec": {
   "display_name": "Python 3 (ipykernel)",
   "language": "python",
   "name": "python3"
  },
  "language_info": {
   "codemirror_mode": {
    "name": "ipython",
    "version": 3
   },
   "file_extension": ".py",
   "mimetype": "text/x-python",
   "name": "python",
   "nbconvert_exporter": "python",
   "pygments_lexer": "ipython3",
   "version": "3.10.17"
  }
 },
 "nbformat": 4,
 "nbformat_minor": 5
}
