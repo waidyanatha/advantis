{
 "cells": [
  {
   "cell_type": "markdown",
   "id": "810b0cc7-1f56-4e45-81ce-d69424865a7f",
   "metadata": {},
   "source": [
    "# Agentic Email Analyzer\n",
    "* read email from vector database\n",
    "* execute query and return results"
   ]
  },
  {
   "cell_type": "code",
   "execution_count": 1,
   "id": "5bf842b3-e5ce-4183-ac94-dd2c6c4dfa13",
   "metadata": {},
   "outputs": [],
   "source": [
    "'''\n",
    "    WARNING CONTROL to display or ignore all warnings\n",
    "'''\n",
    "import warnings; warnings.simplefilter('ignore')     #switch betweeb 'default' and 'ignore'\n",
    "import traceback\n",
    "\n",
    "''' Set debug flag to view extended error messages; else set it to False to turn off debugging mode '''\n",
    "debug = True\n"
   ]
  },
  {
   "cell_type": "markdown",
   "id": "eb52a779-e2e1-4733-8bb3-75f722026adb",
   "metadata": {},
   "source": [
    "## Instantiate classes"
   ]
  },
  {
   "cell_type": "code",
   "execution_count": 2,
   "id": "43ee7dec-3615-4359-b92e-33f72c3f5b39",
   "metadata": {},
   "outputs": [
    {
     "name": "stdout",
     "output_type": "stream",
     "text": [
      "All functional __PROPATTR__-libraries in LOADER-package of ETL-module imported successfully!\n",
      "All functional VECTORDB-libraries in LOADER-package of ETL-module imported successfully!\n",
      "All functional CREW-libraries in EMAILPULSE-package of SHIPPING-module imported successfully!\n",
      "All functional VECTORDB-libraries in LOADER-package of ETL-module imported successfully!\n",
      "All functional CREW-libraries in EMAILPULSE-package of SHIPPING-module imported successfully!\n",
      "All functional APP-libraries in REZAWARE-package of REZAWARE-module imported successfully!\n",
      "All functional MODEL-libraries in LLM-package of ML-module imported successfully!\n",
      "model Class initialization complete\n",
      "__propAttr__ Class initialization complete\n",
      "__propAttr__ Class initialization complete\n",
      "\n",
      "crewai agents and tasks class initialization and load complete!\n"
     ]
    }
   ],
   "source": [
    "import os\n",
    "import sys\n",
    "import litellm\n",
    "os.environ['LITELLM_LOG'] = 'DEBUG' \n",
    "# litellm.set_verbose=True\n",
    "os.environ['CHROMA_TELEMETRY_ENABLED']='false'\n",
    "# os.environ[\"OLLAMA_BASE_URL\"] = \"http://192.168.2.200:5050\"\n",
    "litellm.api_base = \"http://192.168.2.200:5050\"\n",
    "\n",
    "proj_dir = os.path.abspath(os.pardir)\n",
    "sys.path.insert(1,proj_dir.split('mining/')[0])\n",
    "from rezaware.modules.etl.loader import vectorDB as db\n",
    "from mining.modules.shipping.emailPulse import crew as cr\n",
    "from mining.modules.shipping.emailPulse import agents as ag\n",
    "from mining.modules.shipping.emailPulse import tasks as ta\n",
    "from mining.modules.shipping.emailPulse.tools import rag as rag\n",
    "\n",
    "''' restart initiate classes '''\n",
    "if debug:\n",
    "    import importlib\n",
    "    db = importlib.reload(db)\n",
    "    cr = importlib.reload(cr)\n",
    "    ag = importlib.reload(ag)\n",
    "    ta = importlib.reload(ta)\n",
    "    rag = importlib.reload(rag)\n",
    "\n",
    "__desc__ = \"crewai agents and tasks\"\n",
    "clsCrew = cr.agentWorkLoads(desc=__desc__)\n",
    "print(\"\\n%s class initialization and load complete!\" % __desc__)"
   ]
  },
  {
   "cell_type": "code",
   "execution_count": 3,
   "id": "08bb18e1-502d-48b1-8be2-3f5394082128",
   "metadata": {},
   "outputs": [
    {
     "name": "stdout",
     "output_type": "stream",
     "text": [
      "\u001b[1m\u001b[95m# Agent:\u001b[00m \u001b[1m\u001b[92mEmail insights and task analyst\u001b[00m\n",
      "\u001b[95m## Task:\u001b[00m \u001b[92mExecute the following steps in order: 1. Use the tool to retrieve the email content 2. Extracte insights from the content to generate the key information:\n",
      "      a. short summary of the email thread context\n",
      "      b. pending and completed task list\n",
      "      c. weighting times between emails\n",
      "\u001b[00m\n",
      "Found collection NUWAN\n",
      "[Document(metadata={'chunk size': 200, 'overlap': 10}, page_content='The email content from 2025-01-01 to 2025-03-31 is as follows:'), Document(metadata={'chunk size': 200, 'overlap': 10}, page_content='> Dominic, you have an existing WordPress user with username nursix and email dominic@nursix.org. I upgraded you to WordPress admin access to admin and sent a password reset email.\\n>'), Document(metadata={'chunk size': 200, 'overlap': 10}, page_content=\"Body: Oh great, thank you - I totally forgot that there must be an account already, since I've posted before (EdenMobile, that was about). The passwort reset email hasn't arrived yet, though.\"), Document(metadata={'chunk size': 200, 'overlap': 10}, page_content='Body: Dominic, you have an existing WordPress user with username nursix and email dominic@nursix.org. I upgraded you to WordPress admin access to admin and sent a password reset')]\n",
      "\n",
      "\n",
      "\u001b[1m\u001b[95m# Agent:\u001b[00m \u001b[1m\u001b[92mEmail insights and task analyst\u001b[00m\n",
      "\u001b[95m## Thought:\u001b[00m \u001b[92mThought: To generate the required report, I need to retrieve the email content first. I will use the Email content retriever tool to get the content.\u001b[00m\n",
      "\u001b[95m## Using tool:\u001b[00m \u001b[92mEmail content retriever\u001b[00m\n",
      "\u001b[95m## Tool Input:\u001b[00m \u001b[92m\n",
      "\"{\\\"tool_input\\\": \\\"email content query\\\"}\"\u001b[00m\n",
      "\u001b[95m## Tool Output:\u001b[00m \u001b[92m\n",
      "The email content from 2025-01-01 to 2025-03-31 is as follows:\n",
      "> Dominic, you have an existing WordPress user with username nursix and email dominic@nursix.org. I upgraded you to WordPress admin access to admin and sent a password reset email.\n",
      ">\n",
      "Body: Oh great, thank you - I totally forgot that there must be an account already, since I've posted before (EdenMobile, that was about). The passwort reset email hasn't arrived yet, though.\n",
      "Body: Dominic, you have an existing WordPress user with username nursix and email dominic@nursix.org. I upgraded you to WordPress admin access to admin and sent a password reset\u001b[00m\n",
      "\n",
      "\n",
      "\u001b[1m\u001b[95m# Agent:\u001b[00m \u001b[1m\u001b[92mEmail insights and task analyst\u001b[00m\n",
      "\u001b[95m## Final Answer:\u001b[00m \u001b[92m\n",
      "Report: Email Thread Analysis\n",
      "\n",
      "Email Summary: \n",
      "The email thread is about upgrading an existing WordPress user to admin access. The user, Dominic, had an existing account with the username \"nursix\" and email \"dominic@nursix.org\". The sender upgraded Dominic to WordPress admin access and sent a password reset email. However, Dominic did not receive the password reset email.\n",
      "\n",
      "Pending Tasks: \n",
      "1. Investigate why the password reset email was not received by Dominic.\n",
      "2. Ensure Dominic receives the password reset email or provide an alternative solution for him to access his account.\n",
      "\n",
      "Completed Tasks: \n",
      "1. Upgraded Dominic's existing WordPress user to admin access.\n",
      "2. Sent a password reset email to Dominic.\n",
      "\n",
      "Estimated Response Times: \n",
      "The estimated response time between emails is approximately immediate, as the conversation appears to be happening in real-time. However, the actual response time may vary depending on the email server and other factors. \n",
      "\n",
      "Note: The analysis is based on the provided email content and may not be comprehensive or entirely accurate due to the limited information available.\u001b[00m\n",
      "\n",
      "\n",
      "Tasks Output ...:\n",
      "[TaskOutput(description='Execute the following steps in order: 1. Use the tool to retrieve the email content 2. Extracte insights from the content to generate the key information:\\n      a. short summary of the email thread context\\n      b. pending and completed task list\\n      c. weighting times between emails\\n', name='content_analysis_task', expected_output='A structured report containing an email summary, pending tasks, \\n    completed tasks, and estimated response times.', summary='Execute the following steps in order: 1. Use the tool...', raw='Report: Email Thread Analysis\\n\\nEmail Summary: \\nThe email thread is about upgrading an existing WordPress user to admin access. The user, Dominic, had an existing account with the username \"nursix\" and email \"dominic@nursix.org\". The sender upgraded Dominic to WordPress admin access and sent a password reset email. However, Dominic did not receive the password reset email.\\n\\nPending Tasks: \\n1. Investigate why the password reset email was not received by Dominic.\\n2. Ensure Dominic receives the password reset email or provide an alternative solution for him to access his account.\\n\\nCompleted Tasks: \\n1. Upgraded Dominic\\'s existing WordPress user to admin access.\\n2. Sent a password reset email to Dominic.\\n\\nEstimated Response Times: \\nThe estimated response time between emails is approximately immediate, as the conversation appears to be happening in real-time. However, the actual response time may vary depending on the email server and other factors. \\n\\nNote: The analysis is based on the provided email content and may not be comprehensive or entirely accurate due to the limited information available.', pydantic=None, json_dict=None, agent='Email insights and task analyst\\n', output_format=<OutputFormat.RAW: 'raw'>)]\n",
      "\n",
      "Token Usage: total_tokens=1543 prompt_tokens=1057 completion_tokens=486 successful_requests=2\n"
     ]
    }
   ],
   "source": [
    "inputs={\"query\": \"Find the email content discussing task progress\"}\n",
    "crew_output = clsCrew._run(inputs=inputs)\n",
    "\n",
    "print(f\"Tasks Output ...:\\n{crew_output.tasks_output}\")\n",
    "print(f\"\\nToken Usage: {crew_output.token_usage}\")"
   ]
  },
  {
   "cell_type": "code",
   "execution_count": 22,
   "id": "34db9464-53a9-47bb-9cbc-d320e8f3c9ef",
   "metadata": {},
   "outputs": [
    {
     "name": "stdout",
     "output_type": "stream",
     "text": [
      "All functional VECTORDB-libraries in LOADER-package of ETL-module imported successfully!\n",
      "__propAttr__ Class initialization complete\n",
      "Found collection NUWAN\n"
     ]
    },
    {
     "data": {
      "text/plain": [
       "<langchain_chroma.vectorstores.Chroma at 0x7f0d09e4c220>"
      ]
     },
     "execution_count": 22,
     "metadata": {},
     "output_type": "execute_result"
    }
   ],
   "source": [
    "import os\n",
    "import sys\n",
    "proj_dir = os.path.abspath(os.pardir)\n",
    "sys.path.insert(1,proj_dir.split('mining/')[0])\n",
    "from rezaware.modules.etl.loader import vectorDB as db\n",
    "\n",
    "if debug:\n",
    "    import importlib\n",
    "    db = importlib.reload(db)\n",
    "\n",
    "_db_type = 'chromadb'\n",
    "_db_root = os.path.join(\n",
    "    \"/home/nuwan/workloads/advantis/\",\n",
    "    \"wrangler/data/shipping/emailPulse/def_job123\")\n",
    "_db_name = 'email'\n",
    "_collection='nuwan'\n",
    "\n",
    "clsVDB = db.dataWorkLoads(\n",
    "    db_type=_db_type,\n",
    "    db_root=_db_root,\n",
    "    db_name=_db_name\n",
    ")\n",
    "coll_lst = [x.name for x in clsVDB.get_collections()]\n",
    "if _collection not in coll_lst:\n",
    "    print(\"No collection named %s must be one of %s\" \n",
    "          % (_collection.upper(), \n",
    "             \", \".join(coll_lst)))\n",
    "else:\n",
    "    print(\"Found collection %s\" % _collection.upper())\n",
    "\n",
    "retriever = clsVDB.read_vectors(\n",
    "    collection=_collection,   # the documents collection name\n",
    "    embedding_fn=None, #self.embedding_function,\n",
    "    )#.as_retriever()\n",
    "retriever"
   ]
  },
  {
   "cell_type": "code",
   "execution_count": 26,
   "id": "d25751fd-488d-4f07-9baa-9f6abbb47c84",
   "metadata": {},
   "outputs": [
    {
     "name": "stdout",
     "output_type": "stream",
     "text": [
      "Total documents in Chroma collection: 8\n"
     ]
    }
   ],
   "source": [
    "from chromadb import PersistentClient\n",
    "\n",
    "# Define the database path and collection name\n",
    "db_path = \"/home/nuwan/workspace/advantis/wrangler/data/shipping/emailPulse/def_job123/email\"\n",
    "collection_name = \"nuwan\"\n",
    "\n",
    "# Initialize PersistentClient\n",
    "client = PersistentClient(path=db_path)\n",
    "\n",
    "# Get the collection\n",
    "collection = client.get_collection(collection_name)\n",
    "\n",
    "# Count the documents\n",
    "document_count = collection.count()\n",
    "print(f\"Total documents in Chroma collection: {document_count}\")"
   ]
  },
  {
   "cell_type": "code",
   "execution_count": 21,
   "id": "078f450c-2afc-407e-992f-932190cb5b3b",
   "metadata": {},
   "outputs": [
    {
     "ename": "AttributeError",
     "evalue": "'Chroma' object has no attribute 'invoke'",
     "output_type": "error",
     "traceback": [
      "\u001b[0;31m---------------------------------------------------------------------------\u001b[0m",
      "\u001b[0;31mAttributeError\u001b[0m                            Traceback (most recent call last)",
      "Cell \u001b[0;32mIn[21], line 2\u001b[0m\n\u001b[1;32m      1\u001b[0m query \u001b[38;5;241m=\u001b[39m \u001b[38;5;124m\"\u001b[39m\u001b[38;5;124mtask progress\u001b[39m\u001b[38;5;124m\"\u001b[39m\n\u001b[0;32m----> 2\u001b[0m docs \u001b[38;5;241m=\u001b[39m \u001b[43mretriever\u001b[49m\u001b[38;5;241;43m.\u001b[39;49m\u001b[43minvoke\u001b[49m(query)\n\u001b[1;32m      3\u001b[0m \u001b[38;5;28mprint\u001b[39m(\u001b[38;5;124m\"\u001b[39m\u001b[38;5;130;01m\\n\u001b[39;00m\u001b[38;5;124m\"\u001b[39m\u001b[38;5;241m.\u001b[39mjoin([doc\u001b[38;5;241m.\u001b[39mpage_content \u001b[38;5;28;01mfor\u001b[39;00m doc \u001b[38;5;129;01min\u001b[39;00m docs]))\n",
      "\u001b[0;31mAttributeError\u001b[0m: 'Chroma' object has no attribute 'invoke'"
     ]
    }
   ],
   "source": [
    "query = \"task progress\"\n",
    "docs = retriever.invoke(query)\n",
    "print(\"\\n\".join([doc.page_content for doc in docs]))"
   ]
  }
 ],
 "metadata": {
  "kernelspec": {
   "display_name": "advantis-env",
   "language": "python",
   "name": "advantis-env"
  },
  "language_info": {
   "codemirror_mode": {
    "name": "ipython",
    "version": 3
   },
   "file_extension": ".py",
   "mimetype": "text/x-python",
   "name": "python",
   "nbconvert_exporter": "python",
   "pygments_lexer": "ipython3",
   "version": "3.10.16"
  }
 },
 "nbformat": 4,
 "nbformat_minor": 5
}
